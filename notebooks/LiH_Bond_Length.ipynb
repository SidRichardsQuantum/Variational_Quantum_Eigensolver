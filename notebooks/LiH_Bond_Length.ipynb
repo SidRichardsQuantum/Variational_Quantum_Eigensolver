{
 "cells": [
  {
   "cell_type": "markdown",
   "id": "b585090d",
   "metadata": {},
   "source": [
    "# 📏 LiH Ground State Energy vs. Bond Length (Noiseless VQE)\n",
    "\n",
    "This notebook applies the **Variational Quantum Eigensolver (VQE)** algorithm to explore how the **ground state energy of lithium hydride (LiH)** varies with **bond length**, using PennyLane's quantum chemistry tools in a **noiseless simulation**.\n",
    "\n",
    "### 🔍 Objective:\n",
    "To identify the **optimal Li–H bond length** by minimizing the ground state energy through a series of VQE simulations over a range of interatomic distances.\n",
    "\n",
    "### Key Features:\n",
    "- **Bond Length Sweep**: Scans 10 evenly spaced Li–H bond lengths from 1.1 Å to 2.1 Å.\n",
    "- **Dynamic Geometry & Hamiltonian**: Recalculates molecular coordinates and the Hamiltonian at each bond length.\n",
    "- **UCC Ansatz**: Applies a double-excitation ansatz based on UCCSD theory.\n",
    "- **VQE Optimization**: Uses **Gradient Descent** to minimize energy for each configuration.\n",
    "- **Energy Profiling**:\n",
    "  - Plots ground state energy as a function of bond length.\n",
    "  - Identifies the bond length that minimizes the energy (i.e., the optimal geometry).\n",
    "\n",
    "### Outcome:\n",
    "This notebook estimates the **equilibrium bond distance** of LiH using VQE, serving as a prototype for geometry optimization in quantum computational chemistry."
   ]
  },
  {
   "cell_type": "code",
   "execution_count": null,
   "id": "8de8aa36",
   "metadata": {},
   "outputs": [],
   "source": [
    "import pennylane as qml                  # Quantum circuit builder and device management\n",
    "from pennylane import numpy as np        # Not regular NumPy, but similar and supports automatic differentiation\n",
    "from pennylane import qchem              # Quantum chemistry module used to define molecule Hamiltonians\n",
    "from pennylane.qchem import excitations  # Single and double excitations used in the UCCSD (Unitary Coupled Cluster Singles and Doubles) ansatz\n",
    "import matplotlib.pyplot as plt\n",
    "import os\n",
    "from vqe_utils import excitation_ansatz, get_optimizer, set_seed  # helpers\n",
    "\n",
    "set_seed(0)                              # Reproducible runs\n",
    "IMG_DIR = \"images\"                       # Single image directory used repo-wide\n",
    "os.makedirs(IMG_DIR, exist_ok=True)"
   ]
  },
  {
   "cell_type": "code",
   "execution_count": null,
   "id": "f76c0591",
   "metadata": {},
   "outputs": [],
   "source": [
    "# Define the atoms in the LiH molecule\n",
    "symbols = [\"Li\", \"H\"]\n",
    "bond_lengths = np.linspace(1.1, 2.1, 10)\n",
    "energies = []\n",
    "\n",
    "\n",
    "def lih_geometry(bond_length):\n",
    "    return np.array([\n",
    "        [0.0, 0.0, 0.0],         # Li\n",
    "        [0.0, 0.0, bond_length]  # H\n",
    "    ])\n",
    "\n",
    "\n",
    "def run_vqe_for_bond_length(bond_length, max_iters=25, stepsize=0.8):\n",
    "    coordinates = lih_geometry(bond_length)\n",
    "    hamiltonian, qubits = qchem.molecular_hamiltonian(symbols, coordinates)\n",
    "    electrons = 4\n",
    "    hf = qchem.hf_state(electrons=electrons, orbitals=qubits)\n",
    "    _, doubles = excitations(electrons, qubits)\n",
    "\n",
    "    dev = qml.device(\"default.qubit\", wires=qubits)\n",
    "\n",
    "    @qml.qnode(dev)\n",
    "    def cost_function(params):\n",
    "        excitation_ansatz(params, wires=range(qubits), hf_state=hf,\n",
    "                          excitations=doubles, excitation_type=\"double\")\n",
    "        return qml.expval(hamiltonian)\n",
    "\n",
    "    params = np.zeros(len(doubles), requires_grad=True)\n",
    "    opt = get_optimizer(\"GradientDescent\", stepsize=stepsize)\n",
    "\n",
    "    for _ in range(max_iters):\n",
    "        params, _ = opt.step_and_cost(cost_function, params)\n",
    "\n",
    "    return cost_function(params)\n",
    "\n",
    "for r in bond_lengths:\n",
    "    energy = run_vqe_for_bond_length(r)\n",
    "    energies.append(energy)\n",
    "    print(f\"r = {r:.2f} Å → E = {energy:.8f} Ha\")"
   ]
  },
  {
   "cell_type": "code",
   "execution_count": null,
   "id": "94259228",
   "metadata": {},
   "outputs": [],
   "source": [
    "plt.plot(bond_lengths, energies, marker='o')\n",
    "plt.xlabel(\"Li–H bond length (Å)\")\n",
    "plt.ylabel(\"Ground state energy (Ha)\")\n",
    "plt.title(\"LiH VQE: Energy vs. Bond Length (Noiseless, UCC Doubles)\")\n",
    "plt.grid(True)\n",
    "plt.tight_layout()\n",
    "plt.savefig(f\"{IMG_DIR}/LiH_Bond_Length_Scan.png\", dpi=300)\n",
    "plt.show()"
   ]
  },
  {
   "cell_type": "code",
   "execution_count": null,
   "id": "6c3defa6",
   "metadata": {},
   "outputs": [],
   "source": [
    "energies = np.array(energies)    # Convert energies list to a NumPy array (for easy argmin)\n",
    "min_index = np.argmin(energies)  # Find index of the minimum energy\n",
    "\n",
    "# Retrieve optimal bond length and energy\n",
    "optimal_r = bond_lengths[min_index]\n",
    "optimal_energy = energies[min_index]\n",
    "\n",
    "# Print result\n",
    "print(f\"\\nOptimal bond length: {optimal_r:.2f} Å\")\n",
    "print(f\"Minimum ground state energy: {optimal_energy:.8f} Ha\")"
   ]
  }
 ],
 "metadata": {
  "kernelspec": {
   "display_name": "Python 3",
   "language": "python",
   "name": "python3"
  },
  "language_info": {
   "codemirror_mode": {
    "name": "ipython",
    "version": 3
   },
   "file_extension": ".py",
   "mimetype": "text/x-python",
   "name": "python",
   "nbconvert_exporter": "python",
   "pygments_lexer": "ipython3",
   "version": "3.12.1"
  }
 },
 "nbformat": 4,
 "nbformat_minor": 5
}
