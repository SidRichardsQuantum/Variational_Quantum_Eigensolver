{
 "cells": [
  {
   "cell_type": "markdown",
   "id": "b5fea25d",
   "metadata": {},
   "source": [
    "# 🔬 VQE Ground State Simulation of H₂ with Ansatz Comparison (Noiseless)\n",
    "\n",
    "This notebook implements the **Variational Quantum Eigensolver (VQE)** to compute the **ground state energy of dihydrogen (H₂)** using a **noiseless quantum simulator**. It compares the performance of multiple **variational ansatzes** to understand their expressive power and convergence behavior.\n",
    "\n",
    "### Key Features:\n",
    "- **Molecular Setup**: Defines the H₂ molecule and constructs the qubit-based molecular Hamiltonian using the STO-3G basis.\n",
    "- **Customizable Ansatz Selection**:\n",
    "  - Uses a dictionary of predefined ansatzes (`ANSATZES`) including:\n",
    "    - `TwoQubit-RY-CNOT` (toy 2-qubit entangler)\n",
    "    - `Minimal` (simplified configuration)\n",
    "    - `RY-CZ` (hardware-efficient style)\n",
    "- **VQE Execution**:\n",
    "  - Runs independent VQE loops for each ansatz using the **Adam optimizer**.\n",
    "  - Tracks energy at each iteration for performance comparison.\n",
    "\n",
    "### 📊 Visualization Outputs:\n",
    "- **Energy convergence plots** for each ansatz over the training iterations.\n",
    "- Final ground state energies per ansatz, enabling performance benchmarking.\n",
    "\n",
    "### Purpose:\n",
    "To evaluate and compare different **ansatz strategies** for variational quantum simulations, providing insight into trade-offs between expressivity, convergence speed, and implementation complexity in near-term quantum devices."
   ]
  },
  {
   "cell_type": "code",
   "execution_count": null,
   "id": "ab1dbadc",
   "metadata": {},
   "outputs": [],
   "source": [
    "import pennylane as qml                  # Quantum circuit builder and device management\n",
    "from pennylane import numpy as np        # Not regular NumPy, but similar and supports automatic differentiation\n",
    "from pennylane import qchem              # Quantum chemistry module used to define molecule Hamiltonians\n",
    "import matplotlib.pyplot as plt\n",
    "import os\n",
    "from vqe_utils import ANSATZES, get_optimizer, init_params, set_seed  # helpers\n",
    "\n",
    "set_seed(0)                              # Reproducible params for ansatz init\n",
    "IMG_DIR = \"images\"                       # Single image directory used repo-wide\n",
    "os.makedirs(IMG_DIR, exist_ok=True)"
   ]
  },
  {
   "cell_type": "code",
   "execution_count": null,
   "id": "eaff9e9b",
   "metadata": {},
   "outputs": [],
   "source": [
    "# Define the atoms in the dihydrogen molecule\n",
    "symbols = [\"H\", \"H\"]\n",
    "\n",
    "# Define the coordinates (in Ångströms)\n",
    "coordinates = np.array([\n",
    "    [0.0000, 0.0000, 0.0000],  # Hydrogen 1\n",
    "    [0.0000, 0.0000, 0.7414]   # Hydrogen 2\n",
    "])\n",
    "\n",
    "# Define the dihydrogen Hamiltonian and the number of qubits required\n",
    "# Default STO-3G basis set\n",
    "hamiltonian, qubits = qchem.molecular_hamiltonian(symbols, coordinates, charge=0)\n",
    "\n",
    "# Define the number of required quantum wires / logical qubits\n",
    "num_wires = qubits\n",
    "print(f\"{qubits} qubits required\")\n",
    "\n",
    "# Create quantum device simulator backend\n",
    "dev = qml.device(\"default.qubit\",  # Noiseless state vector simulator\n",
    "                 wires=num_wires)\n",
    "\n",
    "\n",
    "def create_circuit(ansatz_fn, wires):\n",
    "    @qml.qnode(dev)\n",
    "    def circuit(params):\n",
    "        ansatz_fn(params, wires=wires)\n",
    "        return qml.expval(hamiltonian)\n",
    "    return circuit"
   ]
  },
  {
   "cell_type": "code",
   "execution_count": null,
   "id": "ca54e4ff",
   "metadata": {},
   "outputs": [],
   "source": [
    "# Run VQE for each ansatz\n",
    "results = {}\n",
    "max_iters = 40\n",
    "stepsize = 0.2\n",
    "\n",
    "for name, ansatz_fn in ANSATZES.items():\n",
    "    print(f\"\\nRunning VQE with {name} Ansatz...\")\n",
    "\n",
    "    circuit = create_circuit(ansatz_fn, wires=[0, 1])\n",
    "    cost = lambda p: circuit(p)\n",
    "\n",
    "    # Consistent initialization via helper (keeps same shapes as before)\n",
    "    params = init_params(name, num_wires=2, scale=0.01, requires_grad=True)\n",
    "\n",
    "    opt = get_optimizer(\"Adam\", stepsize=stepsize)\n",
    "\n",
    "    energy_progress = []\n",
    "    for i in range(max_iters):\n",
    "        params = opt.step(cost, params)\n",
    "        energy = cost(params)\n",
    "        energy_progress.append(energy)\n",
    "\n",
    "    results[name] = {\n",
    "        \"final_energy\": energy,\n",
    "        \"params\": params,\n",
    "        \"trajectory\": energy_progress,\n",
    "    }\n",
    "\n",
    "    print(f\"Final energy for {name}: {energy:.8f} Ha\")"
   ]
  },
  {
   "cell_type": "code",
   "execution_count": null,
   "id": "a18f63a7",
   "metadata": {},
   "outputs": [],
   "source": [
    "plt.figure(figsize=(8, 5))\n",
    "for name, data in results.items():\n",
    "    plt.plot(data[\"trajectory\"], label=name)\n",
    "\n",
    "plt.xlabel(\"Iteration\")\n",
    "plt.ylabel(\"Energy (Ha)\")\n",
    "plt.title(\"H₂ VQE: Ansatz Comparison (Noiseless)\")\n",
    "plt.legend()\n",
    "plt.grid(True)\n",
    "plt.tight_layout()\n",
    "plt.savefig(f\"{IMG_DIR}/H2_Ansatz_Comparison.png\", dpi=300)\n",
    "plt.show()"
   ]
  },
  {
   "cell_type": "code",
   "execution_count": null,
   "id": "036909f0",
   "metadata": {},
   "outputs": [],
   "source": [
    "for name, ansatz_fn in ANSATZES.items():\n",
    "    print(f\"\\n{name} Ansatz Circuit for H₂:\")\n",
    "    params = results[name][\"params\"]\n",
    "\n",
    "    fig, ax = qml.draw_mpl(ansatz_fn)(params, wires=[0, 1])\n",
    "    fig.suptitle(f\"{name} Ansatz\", fontsize=14)\n",
    "    fig.savefig(f\"{IMG_DIR}/H2_{name}_Circuit.png\", dpi=300, bbox_inches=\"tight\")\n",
    "    plt.show()"
   ]
  }
 ],
 "metadata": {
  "kernelspec": {
   "display_name": "Python 3",
   "language": "python",
   "name": "python3"
  },
  "language_info": {
   "codemirror_mode": {
    "name": "ipython",
    "version": 3
   },
   "file_extension": ".py",
   "mimetype": "text/x-python",
   "name": "python",
   "nbconvert_exporter": "python",
   "pygments_lexer": "ipython3",
   "version": "3.12.1"
  }
 },
 "nbformat": 4,
 "nbformat_minor": 5
}
