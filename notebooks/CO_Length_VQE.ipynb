{
 "cells": [
  {
   "cell_type": "code",
   "execution_count": null,
   "id": "13cb99c0",
   "metadata": {},
   "outputs": [],
   "source": [
    "import pennylane as qml                  # Quantum circuit builder and device management\n",
    "from pennylane import numpy as np        # Not regular NumPy, but similar and supports automatic differentiation\n",
    "from pennylane import qchem              # Quantum chemistry module used to define molecule Hamiltonians\n",
    "from pennylane.qchem import excitations  # Single and double excitations used in the UCCSD (Unitary Coupled Cluster Singles and Doubles) ansatz\n",
    "import matplotlib.pyplot as plt\n",
    "import os"
   ]
  },
  {
   "cell_type": "code",
   "execution_count": null,
   "id": "e3802455",
   "metadata": {},
   "outputs": [],
   "source": [
    "\"\"\"\n",
    "Implementation of the VQE algorithm to find the optimum bond-length of carbon monoxide (CO).\n",
    "\"\"\""
   ]
  },
  {
   "cell_type": "code",
   "execution_count": null,
   "id": "59fdc8ee",
   "metadata": {},
   "outputs": [],
   "source": [
    "# Atom symbols for CO\n",
    "symbols = [\"C\", \"O\"]\n",
    "\n",
    "# Define coordinates as a function of bond length\n",
    "def generate_coordinates(bond_length):\n",
    "    return np.array([\n",
    "        [0.0, 0.0, 0.0],             # Carbon at origin\n",
    "        [0.0, 0.0, bond_length]      # Oxygen placed along z-axis\n",
    "    ])"
   ]
  },
  {
   "cell_type": "code",
   "execution_count": null,
   "id": "3394c365",
   "metadata": {},
   "outputs": [],
   "source": [
    "# Bond scan range\n",
    "bond_lengths = np.linspace(0.9, 1.5, 5)  # In Ångströms\n",
    "energies = []\n",
    "\n",
    "for bond_length in bond_lengths:\n",
    "    print(f\"Running VQE for bond length: {bond_length:.2f} Å\")\n",
    "\n",
    "    # Define the water Hamiltonian and the number of qubits required\n",
    "    coordinates = generate_coordinates(bond_length)\n",
    "    hamiltonian, qubits = qchem.molecular_hamiltonian(symbols, coordinates, charge=0)\n",
    "    electrons = 14  # 6 from C, 8 from O\n",
    "\n",
    "    hf = qchem.hf_state(electrons=electrons, orbitals=qubits)\n",
    "    singles, doubles = excitations(electrons, qubits)\n",
    "    num_wires = qubits\n",
    "\n",
    "    dev = qml.device(\"default.qubit\", wires=num_wires)\n",
    "\n",
    "    def ansatz(params_singles, params_doubles):\n",
    "        qml.BasisState(hf, wires=range(num_wires))\n",
    "        for i, excitation in enumerate(singles):\n",
    "            qml.SingleExcitation(params_singles[i], wires=excitation)\n",
    "        for i, excitation in enumerate(doubles):\n",
    "            qml.DoubleExcitation(params_doubles[i], wires=excitation)\n",
    "\n",
    "    @qml.qnode(dev)\n",
    "    def cost_function(params_singles, params_doubles):\n",
    "        ansatz(params_singles, params_doubles)\n",
    "        return qml.expval(hamiltonian)\n",
    "\n",
    "    # Adaptive Moment Estimation (Adam) optimizer\n",
    "    opt = qml.AdamOptimizer(stepsize=0.4)\n",
    "    theta_s = np.zeros(len(singles), requires_grad=True)\n",
    "    theta_d = np.zeros(len(doubles), requires_grad=True)\n",
    "\n",
    "    for _ in range(50):\n",
    "        (theta_s, theta_d), _ = opt.step_and_cost(cost_function, theta_s, theta_d)\n",
    "\n",
    "    energy = cost_function(theta_s, theta_d)\n",
    "    print(f\"  → Final Energy: {energy:.6f} Ha\\n\")\n",
    "    energies.append(energy)"
   ]
  },
  {
   "cell_type": "code",
   "execution_count": null,
   "id": "2d69b3ba",
   "metadata": {},
   "outputs": [],
   "source": [
    "plt.plot(bond_lengths, energies, marker='o')\n",
    "plt.xlabel(\"C–O Bond Length (Å)\")\n",
    "plt.ylabel(\"Ground State Energy (Ha)\")\n",
    "plt.title(\"Potential Energy Curve for CO\")\n",
    "plt.grid(True)\n",
    "\n",
    "# Ensure the \"images\" directory exists\n",
    "os.makedirs('images', exist_ok=True)\n",
    "\n",
    "# Save the figure to the \"images\" directory\n",
    "plt.savefig(\"images/CO_Optimal_Bond_Length.png\")\n",
    "plt.show()"
   ]
  }
 ],
 "metadata": {
  "kernelspec": {
   "display_name": "Python 3",
   "language": "python",
   "name": "python3"
  },
  "language_info": {
   "codemirror_mode": {
    "name": "ipython",
    "version": 3
   },
   "file_extension": ".py",
   "mimetype": "text/x-python",
   "name": "python",
   "nbconvert_exporter": "python",
   "pygments_lexer": "ipython3",
   "version": "3.12.1"
  }
 },
 "nbformat": 4,
 "nbformat_minor": 5
}
