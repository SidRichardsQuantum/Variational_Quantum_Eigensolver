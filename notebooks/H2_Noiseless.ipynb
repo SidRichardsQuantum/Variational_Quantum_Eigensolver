{
 "cells": [
  {
   "cell_type": "markdown",
   "id": "f82acb8c",
   "metadata": {},
   "source": [
    "# ⚛️ VQE Ground State Simulation of H₂ with Optimizer Comparison (Noiseless)\n",
    "\n",
    "This notebook implements the **Variational Quantum Eigensolver (VQE)** to compute the **ground state energy of dihydrogen (H₂)** using a **noiseless quantum simulator**. It compares multiple classical optimizers to evaluate their performance in minimizing the energy landscape of a quantum chemistry problem.\n",
    "\n",
    "### Key Features:\n",
    "- **Molecular Setup**: Constructs the molecular Hamiltonian for H₂ using the STO-3G basis set.\n",
    "- **Excitation Ansatz**: Uses a UCC-style ansatz incorporating both **single and double excitations**.\n",
    "- **Optimizer Evaluation**:\n",
    "  - Runs the VQE algorithm using a range of optimizers defined in `vqe_utils.OPTIMIZERS`.\n",
    "  - Tracks and compares convergence behavior across optimizers.\n",
    "- **Ground State Analysis**:\n",
    "  - Identifies the optimizer yielding the **lowest final energy**.\n",
    "  - Decomposes the resulting quantum state into basis states with corresponding amplitudes.\n",
    "  - Visualizes the ground state amplitudes in a bar plot.\n",
    "\n",
    "### 📊 Visualization Outputs:\n",
    "- Energy convergence plots for each optimizer.\n",
    "- Final ground state quantum state expressed in ket notation.\n",
    "- Bar chart of basis state amplitudes.\n",
    "\n",
    "### Purpose:\n",
    "To benchmark classical optimizers within the VQE framework on a minimal chemistry system (H₂), helping guide the selection of optimizers for more complex molecular systems."
   ]
  },
  {
   "cell_type": "code",
   "execution_count": null,
   "id": "b56f2ce7",
   "metadata": {},
   "outputs": [],
   "source": [
    "import pennylane as qml                  # Quantum circuit builder and device management\n",
    "from pennylane import numpy as np        # Not regular NumPy, but similar and supports automatic differentiation\n",
    "from pennylane import qchem              # Quantum chemistry module used to define molecule Hamiltonians\n",
    "from pennylane.qchem import excitations  # Single and double excitations used in the UCCSD (Unitary Coupled Cluster Singles and Doubles) ansatz\n",
    "import matplotlib.pyplot as plt\n",
    "import os\n",
    "from vqe_utils import get_optimizer, excitation_ansatz, OPTIMIZERS, set_seed  # helpers\n",
    "\n",
    "set_seed(0)                              # Reproducible runs\n",
    "IMG_DIR = \"images\"                       # Single image directory used repo-wide\n",
    "os.makedirs(IMG_DIR, exist_ok=True)"
   ]
  },
  {
   "cell_type": "code",
   "execution_count": null,
   "id": "02e25205",
   "metadata": {},
   "outputs": [],
   "source": [
    "# Define the atoms in the dihydrogen molecule\n",
    "symbols = [\"H\", \"H\"]\n",
    "\n",
    "# Define the coordinates (in Ångströms)\n",
    "coordinates = np.array([\n",
    "    [0.0000, 0.0000, 0.0000],  # Hydrogen 1\n",
    "    [0.0000, 0.0000, 0.7414]   # Hydrogen 2\n",
    "])\n",
    "\n",
    "# Define the dihydrogen Hamiltonian and the number of qubits required\n",
    "# Default STO-3G basis set\n",
    "hamiltonian, qubits = qchem.molecular_hamiltonian(symbols, coordinates, charge=0)\n",
    "\n",
    "# 1 spatial orbital for each H\n",
    "# Each spatial orbital is doubly-degenerate (2 spin orbitals)\n",
    "print(f\"{qubits} qubits required\")"
   ]
  },
  {
   "cell_type": "code",
   "execution_count": null,
   "id": "d11d5755",
   "metadata": {},
   "outputs": [],
   "source": [
    "# Which orbitals are occupied (1) or unoccupied (0) in the mean-field (Hartree-Fock) solution\n",
    "electrons = 2  # 1 from each H\n",
    "hf = qchem.hf_state(electrons=electrons, orbitals=qubits)\n",
    "\n",
    "# Show that the first 2 orbitals are occupied\n",
    "# Print the state in bra-ket notation (leftmost bit = highest-index spin orbital)\n",
    "print(f\"Hartree-Fock state: {'|' + ''.join(str(bit) for bit in hf) + '⟩'}\")"
   ]
  },
  {
   "cell_type": "code",
   "execution_count": null,
   "id": "405eb845",
   "metadata": {},
   "outputs": [],
   "source": [
    "# Define the number of required quantum wires / logical qubits\n",
    "num_wires = qubits\n",
    "\n",
    "# Create quantum device simulator backend\n",
    "dev = qml.device(\"default.qubit\",  # Noiseless state vector simulator\n",
    "                 wires=num_wires)\n",
    "\n",
    "\n",
    "@qml.qnode(dev)  # Transforms exp_energy below into a quantum node\n",
    "def exp_energy(state):\n",
    "    qml.BasisState(np.array(state, dtype=int), wires=range(num_wires))\n",
    "\n",
    "    # Return the expectation value of the molecular Hamiltonian\n",
    "    return qml.expval(hamiltonian)\n",
    "\n",
    "# Calculate ⟨ψ_hf| hamiltonian |ψ_hf⟩ in Hartree (Ha) units\n",
    "# 1 Ha = 27.2 eV\n",
    "exp_energy(hf)"
   ]
  },
  {
   "cell_type": "code",
   "execution_count": null,
   "id": "d1f88961",
   "metadata": {},
   "outputs": [],
   "source": [
    "# Generate excitation indices\n",
    "singles, doubles = excitations(electrons, qubits)\n",
    "print(f\"Singles Excitations: {singles}\")  # e.g: [0, 1] is a single excitation of an electron in orbital 0 to orbital 1\n",
    "print(f\"Doubles Excitations: {doubles}\")  # e.g: [0, 1, 2, 3] is a double excitation of electrons in orbitals 0 and 1 to orbitals 2 and 3"
   ]
  },
  {
   "cell_type": "code",
   "execution_count": null,
   "id": "bf83c1a8",
   "metadata": {},
   "outputs": [],
   "source": [
    "# Define the VQE cost function\n",
    "@qml.qnode(dev)\n",
    "def cost_function(params):\n",
    "    excitation_ansatz(params, wires=range(num_wires), hf_state=hf,\n",
    "                      excitations=(singles, doubles), excitation_type=\"both\")\n",
    "    \n",
    "    # Measure the expectation value of the Hamiltonian after applying the ansatz:\n",
    "    # E(theta) = ⟨ψ(theta)| H |ψ(theta)⟩\n",
    "    return qml.expval(hamiltonian)\n",
    "\n",
    "# Initialize both parameter sets to zero-vectors\n",
    "params = np.zeros(len(singles) + len(doubles), requires_grad=True)\n",
    "\n",
    "# Confirm the initial energy of the system using the Hartree-Fock state\n",
    "# This is the starting point for classical optimization\n",
    "cost_function(params)"
   ]
  },
  {
   "cell_type": "code",
   "execution_count": null,
   "id": "59036bd4",
   "metadata": {},
   "outputs": [],
   "source": [
    "def run_vqe(opt_instance, max_iterations):\n",
    "    params = np.zeros(len(singles) + len(doubles), requires_grad=True)\n",
    "    energy = [cost_function(params)]\n",
    "\n",
    "    for _ in range(max_iterations):\n",
    "        params, _ = opt_instance.step_and_cost(cost_function, params)\n",
    "        energy.append(cost_function(params))\n",
    "\n",
    "    return {\n",
    "        \"energy\": energy,\n",
    "        \"params\": params\n",
    "    }\n",
    "\n",
    "# Run VQE for all optimizers\n",
    "results = {}\n",
    "for name in OPTIMIZERS:\n",
    "    print(f\"Running VQE with {name}...\")\n",
    "    opt = get_optimizer(name, stepsize=0.1)\n",
    "    results[name] = run_vqe(opt, max_iterations=50)"
   ]
  },
  {
   "cell_type": "code",
   "execution_count": null,
   "id": "0b605132",
   "metadata": {},
   "outputs": [],
   "source": [
    "# Plot comparison of all optimizer energy curves\n",
    "plt.figure(figsize=(10, 6))\n",
    "for name, res in results.items():\n",
    "    energies = res[\"energy\"]\n",
    "    plt.plot(range(len(energies)), energies, label=name)\n",
    "\n",
    "plt.xlabel(\"Iteration\")\n",
    "plt.ylabel(\"Energy (Ha)\")\n",
    "plt.title(\"H₂ VQE: Optimizer Comparison (Noiseless)\")\n",
    "plt.legend()\n",
    "plt.grid(True)\n",
    "plt.tight_layout()\n",
    "plt.savefig(f\"{IMG_DIR}/H2_Optimizer_Comparison.png\", dpi=300)\n",
    "plt.show()"
   ]
  },
  {
   "cell_type": "code",
   "execution_count": null,
   "id": "59df78dc",
   "metadata": {},
   "outputs": [],
   "source": [
    "for name, res in results.items():\n",
    "    final_energy = res[\"energy\"][-1]\n",
    "    print(f\"{name}:\\nFinal ground state energy = {final_energy:.8f} Ha\\n\")"
   ]
  },
  {
   "cell_type": "code",
   "execution_count": null,
   "id": "18e70dac",
   "metadata": {},
   "outputs": [],
   "source": [
    "# Choose optimizer with lowest final energy\n",
    "# If ties occur at machine precision, this picks the first min encountered.\n",
    "best_name = min(results, key=lambda n: results[n][\"energy\"][-1])\n",
    "best_params = results[best_name][\"params\"]\n",
    "print(f\"Using best optimizer: {best_name}\")\n",
    "\n",
    "\n",
    "@qml.qnode(dev)\n",
    "def ground_state(params):\n",
    "    excitation_ansatz(params, wires=range(num_wires), hf_state=hf,\n",
    "                      excitations=(singles, doubles), excitation_type=\"both\")\n",
    "    \n",
    "    # Return the entire quantum statevector\n",
    "    return qml.state()\n",
    "\n",
    "final_state = ground_state(best_params)\n",
    "\n",
    "# Find non-zero (or near non-zero) entries\n",
    "threshold = 1e-2  # Recommended smaller threshold to capture all significant amplitudes\n",
    "non_zero_indices = np.where(np.abs(final_state) > threshold)[0]\n",
    "non_zero_amplitudes = final_state[non_zero_indices]\n",
    "\n",
    "# Build the full ket notation string\n",
    "ket_terms = []\n",
    "for idx, amp in zip(non_zero_indices, non_zero_amplitudes):\n",
    "    binary_state = f\"|{idx:0{num_wires}b}⟩\"\n",
    "    amp_str = f\"{amp.real:.4f}\" if np.isclose(amp.imag, 0, atol=1e-6) else f\"({amp.real:.4f} + {amp.imag:.4f}j)\"\n",
    "    ket_terms.append(f\"{amp_str}{binary_state}\")\n",
    "\n",
    "ket_notation = \" + \".join(ket_terms)\n",
    "print(f\"Ground state of H₂:\\n|ψ⟩ = {ket_notation}\")"
   ]
  },
  {
   "cell_type": "code",
   "execution_count": null,
   "id": "9ee1ceb8",
   "metadata": {},
   "outputs": [],
   "source": [
    "# Prepare labels and amplitudes for the plot\n",
    "labels = [f\"|{i:0{num_wires}b}⟩\" for i in non_zero_indices]\n",
    "amplitudes = np.abs(non_zero_amplitudes)\n",
    "\n",
    "# Bar plot\n",
    "plt.figure(figsize=(12, 6))\n",
    "plt.bar(labels, amplitudes)\n",
    "plt.xlabel('Basis States', fontsize=14)\n",
    "plt.ylabel('Amplitude', fontsize=14)\n",
    "plt.title('Ground State of H₂ (VQE Result)', fontsize=16)\n",
    "plt.xticks(rotation=45, ha='right')\n",
    "plt.tight_layout()\n",
    "plt.savefig(f\"{IMG_DIR}/H2_Ground_State.png\", dpi=300)\n",
    "plt.show()"
   ]
  }
 ],
 "metadata": {
  "kernelspec": {
   "display_name": "Python 3",
   "language": "python",
   "name": "python3"
  },
  "language_info": {
   "codemirror_mode": {
    "name": "ipython",
    "version": 3
   },
   "file_extension": ".py",
   "mimetype": "text/x-python",
   "name": "python",
   "nbconvert_exporter": "python",
   "pygments_lexer": "ipython3",
   "version": "3.12.1"
  }
 },
 "nbformat": 4,
 "nbformat_minor": 5
}
