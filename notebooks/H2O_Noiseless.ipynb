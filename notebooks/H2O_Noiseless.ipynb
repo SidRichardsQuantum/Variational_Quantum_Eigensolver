{
 "cells": [
  {
   "cell_type": "code",
   "execution_count": 1,
   "id": "598e42de",
   "metadata": {},
   "outputs": [],
   "source": [
    "import pennylane as qml                  # Quantum circuit builder and device management\n",
    "from pennylane import numpy as np        # Not regular NumPy, but similar and supports automatic differentiation\n",
    "from pennylane import qchem              # Quantum chemistry module used to define molecule Hamiltonians\n",
    "from pennylane.qchem import excitations  # Single and double excitations used in the UCCSD (Unitary Coupled Cluster Singles and Doubles) ansatz\n",
    "import matplotlib.pyplot as plt\n",
    "import os"
   ]
  },
  {
   "cell_type": "code",
   "execution_count": 2,
   "id": "6851c161",
   "metadata": {},
   "outputs": [
    {
     "data": {
      "text/plain": [
       "'\\nImplementation of the noiseless VQE algorithm to find the ground state of water (H₂O) using both single and double excitations.\\n'"
      ]
     },
     "execution_count": 2,
     "metadata": {},
     "output_type": "execute_result"
    }
   ],
   "source": [
    "\"\"\"\n",
    "Implementation of the noiseless VQE algorithm to find the ground state of water (H₂O) using both single and double excitations.\n",
    "\"\"\""
   ]
  },
  {
   "cell_type": "code",
   "execution_count": 3,
   "id": "1df10c92",
   "metadata": {},
   "outputs": [],
   "source": [
    "# Define the atoms in the water molecule\n",
    "symbols = [\"O\", \"H\", \"H\"]\n",
    "\n",
    "# Define the coordinates (in Ångströms)\n",
    "coordinates = np.array([\n",
    "    [0.000000, 0.000000, 0.000000],  # Oxygen at origin\n",
    "    [0.758602, 0.000000, 0.504284],  # Hydrogen 1\n",
    "    [-0.758602, 0.000000, 0.504284]   # Hydrogen 2\n",
    "])"
   ]
  },
  {
   "cell_type": "code",
   "execution_count": 4,
   "id": "c275fb06",
   "metadata": {},
   "outputs": [
    {
     "name": "stdout",
     "output_type": "stream",
     "text": [
      "14 qubits required\n"
     ]
    }
   ],
   "source": [
    "# Define the water Hamiltonian and the number of qubits required\n",
    "# Default STO-3G basis set\n",
    "hamiltonian, qubits = qchem.molecular_hamiltonian(symbols, coordinates, charge=0)\n",
    "\n",
    "# 1 spatial orbital for each H and 5 for O\n",
    "# Each spatial orbital is doubly-degenerate (2 spin orbitals)\n",
    "print(f\"{qubits} qubits required\")"
   ]
  },
  {
   "cell_type": "code",
   "execution_count": null,
   "id": "6d24667c",
   "metadata": {},
   "outputs": [],
   "source": [
    "# Which orbitals are occupied (1) or unoccupied (0) in the mean-field (Hartree-Fock) solution\n",
    "electrons = 10  # 1 from each H and 8 from O\n",
    "hf = qchem.hf_state(electrons=electrons, orbitals=qubits)\n",
    "\n",
    "# Show that the first 10 orbitals are occupied\n",
    "# Print the state in bra-ket notation\n",
    "print(f\"Hartree-Fock state: {'|' + ''.join(str(bit) for bit in hf) + '⟩'}\")"
   ]
  },
  {
   "cell_type": "code",
   "execution_count": null,
   "id": "90abeaee",
   "metadata": {},
   "outputs": [],
   "source": [
    "# Define the number of required quantum wires / logical qubits\n",
    "num_wires = qubits\n",
    "\n",
    "# Create quantum device simulator backend\n",
    "dev = qml.device(\"default.qubit\",  # Noiseless state vector simulator\n",
    "                 wires=num_wires)\n",
    "\n",
    "\n",
    "@qml.qnode(dev)  # Transforms exp_energy below into a quantum node\n",
    "def exp_energy(state):\n",
    "    qml.BasisState(np.array(state), wires=range(num_wires))\n",
    "\n",
    "    # Return the expectation value of the molecular Hamiltonian\n",
    "    return qml.expval(hamiltonian)\n",
    "\n",
    "# Calculate ⟨ψ_hf| hamiltonian |ψ_hf⟩ in Hartree (Ha) units\n",
    "# 1 Ha = 27.2 eV\n",
    "exp_energy(hf)"
   ]
  },
  {
   "cell_type": "code",
   "execution_count": null,
   "id": "4df01656",
   "metadata": {},
   "outputs": [],
   "source": [
    "# Generate excitation indices\n",
    "singles, doubles = excitations(electrons, qubits)\n",
    "\n",
    "# Define an ansatz using the excitations\n",
    "def ansatz(params_singles, params_doubles):\n",
    "    # Initialize the qubit register in the Hartree-Fock state\n",
    "    qml.BasisState(hf, wires=range(num_wires))\n",
    "    \n",
    "    # Apply single excitations\n",
    "    for i, excitation in enumerate(singles):\n",
    "        qml.SingleExcitation(params_singles[i], wires=excitation)\n",
    "    \n",
    "    # Apply double excitations\n",
    "    for i, excitation in enumerate(doubles):\n",
    "        qml.DoubleExcitation(params_doubles[i], wires=excitation)"
   ]
  },
  {
   "cell_type": "code",
   "execution_count": null,
   "id": "ec5c5ec9",
   "metadata": {},
   "outputs": [],
   "source": [
    "# Define the VQE cost function\n",
    "@qml.qnode(dev)\n",
    "def cost_function(params_singles, params_doubles):\n",
    "    ansatz(params_singles, params_doubles)\n",
    "\n",
    "    # Measure the expectation value of the Hamiltonian after applying the ansatz:\n",
    "    # E(theta) = ⟨ψ(theta)| H |ψ(theta)⟩\n",
    "    return qml.expval(hamiltonian)\n",
    "\n",
    "# Initialize both parameter sets to zero-vectors\n",
    "initial_params_singles = np.zeros(len(singles), requires_grad=True)\n",
    "initial_params_doubles = np.zeros(len(doubles), requires_grad=True)\n",
    "\n",
    "# Confirm the initial energy of the system using the Hartree-Fock state\n",
    "# This is the starting point for classical optimization\n",
    "cost_function(initial_params_singles, initial_params_doubles)"
   ]
  },
  {
   "cell_type": "code",
   "execution_count": null,
   "id": "9875bc38",
   "metadata": {},
   "outputs": [],
   "source": [
    "# Adaptive Moment Estimation (Adam) optimizer\n",
    "opt = qml.AdamOptimizer(stepsize=0.1)\n",
    "\n",
    "# Initialize zero-vectors as the starting parameters for the ansatz\n",
    "theta_singles = np.zeros(len(singles), requires_grad=True)\n",
    "theta_doubles = np.zeros(len(doubles), requires_grad=True)\n",
    "\n",
    "# Initialize energy and parameter tracking lists\n",
    "energy = [cost_function(theta_singles, theta_doubles)]\n",
    "angle_singles = [theta_singles]\n",
    "angle_doubles = [theta_doubles]\n",
    "\n",
    "# VQE optimization loop\n",
    "max_iterations = 50\n",
    "for n in range(max_iterations):\n",
    "    # Updates parameters theta to minimize the cost function (energy)\n",
    "    (theta_singles, theta_doubles), prev_energy = opt.step_and_cost(\n",
    "        cost_function, theta_singles, theta_doubles\n",
    "    )\n",
    "    energy.append(cost_function(theta_singles, theta_doubles))\n",
    "    angle_singles.append(theta_singles)\n",
    "    angle_doubles.append(theta_doubles)\n",
    "\n",
    "# Plotting VQE convergence\n",
    "plt.plot(range(len(energy)), energy)\n",
    "plt.xlabel('Iteration')\n",
    "plt.ylabel('Energy (Ha)')\n",
    "plt.title('VQE Convergence')\n",
    "\n",
    "# Ensure the \"images\" directory exists\n",
    "os.makedirs('images', exist_ok=True)\n",
    "\n",
    "# Save the figure to the \"images\" directory\n",
    "plt.savefig('images/H2O_Adam.png')\n",
    "plt.show()"
   ]
  },
  {
   "cell_type": "code",
   "execution_count": null,
   "id": "eeece749",
   "metadata": {},
   "outputs": [],
   "source": [
    "print(f\"Final ground state energy: {energy[-1]:.8f} Ha\")\n",
    "print(f\"Final single excitation parameters: {theta_singles[0]:.8f}, {theta_singles[1]:.8f}\")\n",
    "print(f\"Final double excitation parameters: {theta_doubles[0]:.8f}, {theta_doubles[1]:.8f}\")"
   ]
  },
  {
   "cell_type": "code",
   "execution_count": null,
   "id": "29ee721b",
   "metadata": {},
   "outputs": [],
   "source": [
    "@qml.qnode(dev)\n",
    "def ground_state(params_singles, params_doubles):\n",
    "    ansatz(params_singles, params_doubles)\n",
    "\n",
    "    # Return the entire quantum statevector\n",
    "    return qml.state()\n",
    "\n",
    "final_state = ground_state(theta_singles, theta_doubles)\n",
    "\n",
    "# Find non-zero (or near non-zero) entries\n",
    "threshold = 1e-2  # Recommended smaller threshold to capture all significant amplitudes\n",
    "non_zero_indices = np.where(np.abs(final_state) > threshold)[0]\n",
    "non_zero_amplitudes = final_state[non_zero_indices]\n",
    "\n",
    "# Build the full ket notation string\n",
    "ket_terms = []\n",
    "for idx, amp in zip(non_zero_indices, non_zero_amplitudes):\n",
    "    binary_state = f\"|{idx:0{num_wires}b}>\"\n",
    "    \n",
    "    # Format the amplitude nicely\n",
    "    amp_str = f\"{amp.real:.4f}\" if np.isclose(amp.imag, 0, atol=1e-6) else f\"({amp.real:.4f} + {amp.imag:.4f}j)\"\n",
    "    ket_terms.append(f\"{amp_str}{binary_state}\")\n",
    "\n",
    "# Join all terms into one quantum state expression and print\n",
    "ket_notation = \" + \".join(ket_terms)\n",
    "print(f\"Ground state of H₂O:\\n|ψ⟩ = {ket_notation}\")"
   ]
  },
  {
   "cell_type": "code",
   "execution_count": null,
   "id": "91542029",
   "metadata": {},
   "outputs": [],
   "source": [
    "# Prepare labels and amplitudes for the plot\n",
    "labels = [f\"|{idx}⟩\" for idx in non_zero_indices]  # No extra brackets\n",
    "\n",
    "amplitudes = np.abs(non_zero_amplitudes)\n",
    "\n",
    "# Bar plot\n",
    "plt.figure(figsize=(12, 6))\n",
    "plt.bar(labels, amplitudes)\n",
    "plt.xlabel('Basis States', fontsize=14)\n",
    "plt.ylabel('Amplitude', fontsize=14)\n",
    "plt.title('Ground State of H₂O (VQE Result)', fontsize=16)\n",
    "plt.xticks(rotation=45, ha='right')\n",
    "plt.tight_layout()\n",
    "\n",
    "# Save the figure to the \"images\" directory\n",
    "plt.savefig('images/H2O_Ground_State.png')\n",
    "plt.show()"
   ]
  }
 ],
 "metadata": {
  "kernelspec": {
   "display_name": "Python 3",
   "language": "python",
   "name": "python3"
  },
  "language_info": {
   "codemirror_mode": {
    "name": "ipython",
    "version": 3
   },
   "file_extension": ".py",
   "mimetype": "text/x-python",
   "name": "python",
   "nbconvert_exporter": "python",
   "pygments_lexer": "ipython3",
   "version": "3.12.1"
  }
 },
 "nbformat": 4,
 "nbformat_minor": 5
}
