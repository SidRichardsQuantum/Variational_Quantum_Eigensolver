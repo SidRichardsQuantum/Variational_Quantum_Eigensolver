{
 "cells": [
  {
   "cell_type": "code",
   "execution_count": null,
   "id": "4274be88",
   "metadata": {},
   "outputs": [],
   "source": [
    "import pennylane as qml                  # Quantum circuit builder and device management\n",
    "from pennylane import numpy as np        # Not regular NumPy, but similar and supports automatic differentiation\n",
    "from pennylane import qchem              # Quantum chemistry module used to define molecule Hamiltonians\n",
    "from pennylane.qchem import excitations  # Single and double excitations used in the UCCSD (Unitary Coupled Cluster Singles and Doubles) ansatz\n",
    "import matplotlib.pyplot as plt\n",
    "import os"
   ]
  },
  {
   "cell_type": "code",
   "execution_count": null,
   "id": "28d2c82e",
   "metadata": {},
   "outputs": [],
   "source": [
    "# Define the atoms in the LiH molecule\n",
    "symbols = [\"Li\", \"H\"]\n",
    "\n",
    "# Define the coordinates (in Ångströms)\n",
    "coordinates = np.array([\n",
    "    [0.0, 0.0, 0.0],  # Lithium atom at the origin\n",
    "    [0.0, 0.0, 1.6]   # Hydrogen atom positioned 1.6 Å along the z-axis\n",
    "])"
   ]
  },
  {
   "cell_type": "code",
   "execution_count": null,
   "id": "a64ad8da",
   "metadata": {},
   "outputs": [],
   "source": [
    "# Define the LiH Hamiltonian and the number of qubits required\n",
    "# Default STO-3G basis set\n",
    "hamiltonian, qubits = qchem.molecular_hamiltonian(symbols, coordinates, charge=0)\n",
    "\n",
    "# 1 spatial orbital for H and 5 for Li\n",
    "# Each spatial orbital is doubly-degenerate (2 spin orbitals)\n",
    "print(f\"{qubits} qubits required\")"
   ]
  },
  {
   "cell_type": "code",
   "execution_count": null,
   "id": "c9ad458b",
   "metadata": {},
   "outputs": [],
   "source": [
    "# Which orbitals are occupied (1) or unoccupied (0) in the mean-field (Hartree-Fock) solution\n",
    "electrons = 4  # 1 from H and 3 from Li\n",
    "hf = qchem.hf_state(electrons=electrons, orbitals=qubits)  # Creates the Hartree-Fock state\n",
    "\n",
    "# Show that the first 4 orbitals are occupied\n",
    "# Print the state in bra-ket notation\n",
    "print(f\"Hartree-Fock state: {'|' + ''.join(str(bit) for bit in hf) + '⟩'}\")"
   ]
  },
  {
   "cell_type": "code",
   "execution_count": null,
   "id": "02d1aa4a",
   "metadata": {},
   "outputs": [],
   "source": [
    "# Define the number of required quantum wires / logical qubits\n",
    "num_wires = qubits\n",
    "\n",
    "# Create quantum device simulator backend\n",
    "dev = qml.device(\"default.qubit\",  # Noiseless state vector simulator\n",
    "                 wires=num_wires)\n",
    "\n",
    "\n",
    "@qml.qnode(dev)  # Transforms exp_energy below into a quantum node\n",
    "def exp_energy(state):\n",
    "    qml.BasisState(np.array(state), wires=range(num_wires))\n",
    "\n",
    "    # Return the expectation value of the molecular Hamiltonian\n",
    "    return qml.expval(hamiltonian)\n",
    "\n",
    "# Calculate ⟨ψ_hf| hamiltonian |ψ_hf⟩ in Hartree (Ha) units\n",
    "# 1 Ha = 27.2 eV\n",
    "exp_energy(hf)"
   ]
  },
  {
   "cell_type": "code",
   "execution_count": null,
   "id": "5f1a3cf4",
   "metadata": {},
   "outputs": [],
   "source": [
    "# Generate excitation indices\n",
    "singles, doubles = excitations(electrons=electrons, orbitals=qubits)\n",
    "print(f\"Singles Excitations: {singles}\")  # e.g: [0, 4] is a single excitation of an electron in orbital 0 to orbital 4\n",
    "print(f\"Doubles Excitations: {doubles}\")  # e.g: [0, 1, 4, 5] is a double excitation of electrons in orbitals 0 and 1 to orbitals 4 and 5\n",
    "\n",
    "\n",
    "# Define an ansatz using the excitations\n",
    "def ansatz(params):\n",
    "    # Initialize the qubit register in the Hartree-Fock state\n",
    "    qml.BasisState(hf, wires=range(num_wires))\n",
    "\n",
    "    # We only loop over the double excitations for LiH\n",
    "    for i, excitation in enumerate(doubles):\n",
    "        # Unitary quantum gate representing a double excitation\n",
    "        qml.DoubleExcitation(params[i], wires=excitation)"
   ]
  },
  {
   "cell_type": "code",
   "execution_count": null,
   "id": "c4e639f6",
   "metadata": {},
   "outputs": [],
   "source": [
    "# Define the VQE cost function\n",
    "@qml.qnode(dev)\n",
    "def cost_function(params):\n",
    "    ansatz(params)\n",
    "\n",
    "    # Measure the expectation value of the Hamiltonian after applying the ansatz:\n",
    "    # E(theta) = ⟨ψ(theta)| H |ψ(theta)⟩\n",
    "    return qml.expval(hamiltonian)\n",
    "\n",
    "# Create a vector of zeros with the same length as the number of double excitations\n",
    "initial_params = np.zeros(len(doubles))\n",
    "\n",
    "# Confirm the initial energy of the system using the Hartree-Fock state\n",
    "# This is the starting point for classical optimization\n",
    "cost_function(initial_params)"
   ]
  },
  {
   "cell_type": "code",
   "execution_count": null,
   "id": "f473aba3",
   "metadata": {},
   "outputs": [],
   "source": [
    "# The optimizer uses automatic differentiation to compute gradients and adjust the parameters\n",
    "opt = qml.GradientDescentOptimizer(stepsize=0.1)    # Initializes the gradient descent optimizer\n",
    "theta = np.zeros(len(doubles), requires_grad=True)  # Initializes a vector of zeros as the starting parameters for the ansatz\n",
    "\n",
    "# Initialize energy and parameter tracking lists\n",
    "energy = [cost_function(theta)]\n",
    "angle = [theta]\n",
    "\n",
    "# VQE optimization loop\n",
    "max_iterations = 50\n",
    "for n in range(max_iterations):\n",
    "    # Updates parameters theta to minimize the cost function (energy)\n",
    "    theta, prev_energy = opt.step_and_cost(cost_function, theta)\n",
    "    energy.append(cost_function(theta))\n",
    "    angle.append(theta)\n",
    "\n",
    "# Plotting VQE convergence\n",
    "plt.plot(range(len(energy)), energy)\n",
    "plt.xlabel('Iteration')\n",
    "plt.ylabel('Energy (Ha)')\n",
    "plt.title('VQE Convergence')\n",
    "\n",
    "# Ensure the \"images\" directory exists\n",
    "os.makedirs('images', exist_ok=True)\n",
    "\n",
    "# Save the figure to the \"images\" directory\n",
    "plt.savefig('images/LiH_convergence.png')\n",
    "plt.show()"
   ]
  },
  {
   "cell_type": "code",
   "execution_count": null,
   "id": "8a93085d",
   "metadata": {},
   "outputs": [],
   "source": [
    "print(f\"Final ground state energy: {energy[-1]:.8f} Ha\")\n",
    "\n",
    "# Optimized angles in the DoubleExcitation gates for first two excitations\n",
    "print(f\"Final parameters: {theta[0]:.8f}, {theta[1]:.8f}\")"
   ]
  },
  {
   "cell_type": "code",
   "execution_count": null,
   "id": "f806b1aa",
   "metadata": {},
   "outputs": [],
   "source": [
    "@qml.qnode(dev)\n",
    "def ground_state(params):\n",
    "    ansatz(params)\n",
    "\n",
    "    # Return the entire quantum statevector\n",
    "    return qml.state()\n",
    "\n",
    "# Run the circuit using the final optimized angles\n",
    "final_state = ground_state(theta)\n",
    "\n",
    "# Find non-zero (or near non-zero) entries\n",
    "threshold = 1e-2  # Recommended smaller threshold to capture all significant amplitudes\n",
    "non_zero_indices = np.where(np.abs(final_state) > threshold)[0]\n",
    "non_zero_amplitudes = final_state[non_zero_indices]\n",
    "\n",
    "# Build the full ket notation string\n",
    "ket_terms = []\n",
    "for idx, amp in zip(non_zero_indices, non_zero_amplitudes):\n",
    "    binary_state = f\"|{idx:0{num_wires}b}⟩\"\n",
    "    \n",
    "    # Format the amplitude nicely\n",
    "    amp_str = f\"{amp.real:.4f}\" if np.isclose(amp.imag, 0, atol=1e-6) else f\"({amp.real:.4f} + {amp.imag:.4f}j)\"\n",
    "    ket_terms.append(f\"{amp_str}{binary_state}\")\n",
    "\n",
    "# Join all terms into one quantum state expression and print\n",
    "ket_notation = \" + \".join(ket_terms)\n",
    "print(f\"Ground state of LiH:\\n|ψ⟩ = {ket_notation}\")"
   ]
  },
  {
   "cell_type": "code",
   "execution_count": null,
   "id": "52f90f6e",
   "metadata": {},
   "outputs": [],
   "source": [
    "# Prepare labels and amplitudes for the plot\n",
    "labels = [f\"|{idx}⟩\" for idx in non_zero_indices]\n",
    "amplitudes = np.abs(non_zero_amplitudes)\n",
    "\n",
    "# Bar plot\n",
    "plt.figure(figsize=(12, 6))\n",
    "plt.bar(labels, amplitudes)\n",
    "plt.xlabel('Basis States', fontsize=14)\n",
    "plt.ylabel('Amplitude', fontsize=14)\n",
    "plt.title('Ground State of LiH (VQE Result)', fontsize=16)\n",
    "plt.xticks(rotation=45, ha='right')\n",
    "plt.tight_layout()\n",
    "\n",
    "# Save the figure to the \"images\" directory\n",
    "plt.savefig('images/LiH_ground_state.png')\n",
    "plt.show()"
   ]
  }
 ],
 "metadata": {
  "kernelspec": {
   "display_name": "Python 3",
   "language": "python",
   "name": "python3"
  },
  "language_info": {
   "codemirror_mode": {
    "name": "ipython",
    "version": 3
   },
   "file_extension": ".py",
   "mimetype": "text/x-python",
   "name": "python",
   "nbconvert_exporter": "python",
   "pygments_lexer": "ipython3",
   "version": "3.12.1"
  }
 },
 "nbformat": 4,
 "nbformat_minor": 5
}
