{
 "cells": [
  {
   "cell_type": "code",
   "execution_count": 88,
   "id": "13cb99c0",
   "metadata": {},
   "outputs": [],
   "source": [
    "import pennylane as qml                  # Quantum circuit builder and device management\n",
    "from pennylane import numpy as np        # Not regular NumPy, but similar and supports automatic differentiation\n",
    "from pennylane import qchem              # Quantum chemistry module used to define molecule Hamiltonians\n",
    "from pennylane.qchem import excitations  # Single and double excitations used in the UCCSD (Unitary Coupled Cluster Singles and Doubles) ansatz\n",
    "import matplotlib.pyplot as plt\n",
    "import os"
   ]
  },
  {
   "cell_type": "code",
   "execution_count": 89,
   "id": "e3802455",
   "metadata": {},
   "outputs": [
    {
     "data": {
      "text/plain": [
       "'\\nImplementation of the VQE algorithm to find the optimum bond-length of dihydride (H₂).\\n'"
      ]
     },
     "execution_count": 89,
     "metadata": {},
     "output_type": "execute_result"
    }
   ],
   "source": [
    "\"\"\"\n",
    "Implementation of the VQE algorithm to find the optimum bond-length of dihydride (H₂).\n",
    "\"\"\""
   ]
  },
  {
   "cell_type": "code",
   "execution_count": 90,
   "id": "59fdc8ee",
   "metadata": {},
   "outputs": [],
   "source": [
    "# Atom symbols for H₂\n",
    "symbols = [\"H\", \"H\"]\n",
    "\n",
    "# Define coordinates as a function of bond length\n",
    "def generate_coordinates(bond_length):\n",
    "    return np.array([\n",
    "        [0.0, 0.0, 0.0],         # Hydrogen 1\n",
    "        [0.0, 0.0, bond_length]  # Hydrogen 2\n",
    "    ])"
   ]
  },
  {
   "cell_type": "code",
   "execution_count": 91,
   "id": "3394c365",
   "metadata": {},
   "outputs": [
    {
     "name": "stdout",
     "output_type": "stream",
     "text": [
      "Running VQE for bond length: 0.50 Å\n",
      "4\n",
      "  → Final Energy: -0.409087 Ha\n",
      "\n",
      "Running VQE for bond length: 0.55 Å\n",
      "4\n",
      "  → Final Energy: -0.568662 Ha\n",
      "\n",
      "Running VQE for bond length: 0.61 Å\n",
      "4\n",
      "  → Final Energy: -0.692862 Ha\n",
      "\n",
      "Running VQE for bond length: 0.66 Å\n",
      "4\n",
      "  → Final Energy: -0.790575 Ha\n",
      "\n",
      "Running VQE for bond length: 0.72 Å\n",
      "4\n",
      "  → Final Energy: -0.868028 Ha\n",
      "\n",
      "Running VQE for bond length: 0.77 Å\n",
      "4\n",
      "  → Final Energy: -0.929705 Ha\n",
      "\n",
      "Running VQE for bond length: 0.82 Å\n",
      "4\n",
      "  → Final Energy: -0.978917 Ha\n",
      "\n",
      "Running VQE for bond length: 0.88 Å\n",
      "4\n",
      "  → Final Energy: -1.018160 Ha\n",
      "\n",
      "Running VQE for bond length: 0.93 Å\n",
      "4\n",
      "  → Final Energy: -1.049351 Ha\n",
      "\n",
      "Running VQE for bond length: 0.99 Å\n",
      "4\n",
      "  → Final Energy: -1.073982 Ha\n",
      "\n",
      "Running VQE for bond length: 1.04 Å\n",
      "4\n",
      "  → Final Energy: -1.093232 Ha\n",
      "\n",
      "Running VQE for bond length: 1.10 Å\n",
      "4\n",
      "  → Final Energy: -1.108039 Ha\n",
      "\n",
      "Running VQE for bond length: 1.15 Å\n",
      "4\n",
      "  → Final Energy: -1.119154 Ha\n",
      "\n",
      "Running VQE for bond length: 1.20 Å\n",
      "4\n",
      "  → Final Energy: -1.127179 Ha\n",
      "\n",
      "Running VQE for bond length: 1.26 Å\n",
      "4\n",
      "  → Final Energy: -1.132589 Ha\n",
      "\n",
      "Running VQE for bond length: 1.31 Å\n",
      "4\n",
      "  → Final Energy: -1.135752 Ha\n",
      "\n",
      "Running VQE for bond length: 1.37 Å\n",
      "4\n",
      "  → Final Energy: -1.136958 Ha\n",
      "\n",
      "Running VQE for bond length: 1.42 Å\n",
      "4\n",
      "  → Final Energy: -1.136486 Ha\n",
      "\n",
      "Running VQE for bond length: 1.48 Å\n",
      "4\n",
      "  → Final Energy: -1.134678 Ha\n",
      "\n",
      "Running VQE for bond length: 1.53 Å\n",
      "4\n",
      "  → Final Energy: -1.131943 Ha\n",
      "\n",
      "Running VQE for bond length: 1.58 Å\n",
      "4\n",
      "  → Final Energy: -1.128658 Ha\n",
      "\n",
      "Running VQE for bond length: 1.64 Å\n",
      "4\n",
      "  → Final Energy: -1.125006 Ha\n",
      "\n",
      "Running VQE for bond length: 1.69 Å\n",
      "4\n",
      "  → Final Energy: -1.120928 Ha\n",
      "\n",
      "Running VQE for bond length: 1.75 Å\n",
      "4\n",
      "  → Final Energy: -1.116239 Ha\n",
      "\n",
      "Running VQE for bond length: 1.80 Å\n",
      "4\n",
      "  → Final Energy: -1.110811 Ha\n",
      "\n"
     ]
    }
   ],
   "source": [
    "# Bond scan range\n",
    "bond_lengths = np.linspace(0.5, 1.8, 25)  # In Ångströms\n",
    "energies = []\n",
    "\n",
    "for bond_length in bond_lengths:\n",
    "    print(f\"Running VQE for bond length: {bond_length:.2f} Å\")\n",
    "\n",
    "    # Define the water Hamiltonian and the number of qubits required\n",
    "    coordinates = generate_coordinates(bond_length)\n",
    "    coordinates = generate_coordinates(bond_length)\n",
    "\n",
    "    # Step 1: Define the molecule explicitly\n",
    "    mol = qchem.Molecule(\n",
    "        symbols,\n",
    "        coordinates,\n",
    "        charge=0,\n",
    "        mult=1,\n",
    "        name=\"h2\",\n",
    "    )\n",
    "\n",
    "    # Step 2: Generate Hamiltonian with active space restriction\n",
    "    hamiltonian, qubits = qchem.molecular_hamiltonian(\n",
    "        mol,\n",
    "        active_electrons=2,\n",
    "        active_orbitals=2\n",
    "    )\n",
    "    electrons = 2  # 1 from each hydrogen\n",
    "    print(qubits)\n",
    "\n",
    "    hf = qchem.hf_state(electrons=electrons, orbitals=qubits)\n",
    "    singles, doubles = excitations(electrons, qubits)\n",
    "    num_wires = qubits\n",
    "\n",
    "    dev = qml.device(\"default.qubit\", wires=num_wires)\n",
    "\n",
    "\n",
    "    def ansatz(params_singles, params_doubles):\n",
    "        qml.BasisState(hf, wires=range(num_wires))\n",
    "\n",
    "        for i, excitation in enumerate(singles):\n",
    "            qml.SingleExcitation(params_singles[i], wires=excitation)\n",
    "\n",
    "        for i, excitation in enumerate(doubles):\n",
    "            qml.DoubleExcitation(params_doubles[i], wires=excitation)\n",
    "\n",
    "\n",
    "    @qml.qnode(dev)\n",
    "    def cost_function(params_singles, params_doubles):\n",
    "        ansatz(params_singles, params_doubles)\n",
    "        return qml.expval(hamiltonian)\n",
    "\n",
    "    # Adaptive Moment Estimation (Adam) optimizer\n",
    "    opt = qml.AdamOptimizer(stepsize=0.4)\n",
    "    theta_s = np.zeros(len(singles), requires_grad=True)\n",
    "    theta_d = np.zeros(len(doubles), requires_grad=True)\n",
    "\n",
    "    for _ in range(25):\n",
    "        (theta_s, theta_d), _ = opt.step_and_cost(cost_function, theta_s, theta_d)\n",
    "\n",
    "\n",
    "    energy = cost_function(theta_s, theta_d)\n",
    "    print(f\"  → Final Energy: {energy:.6f} Ha\\n\")\n",
    "    energies.append(energy)"
   ]
  },
  {
   "cell_type": "code",
   "execution_count": 92,
   "id": "d4bf45f7",
   "metadata": {},
   "outputs": [
    {
     "name": "stdout",
     "output_type": "stream",
     "text": [
      "Optimal bond length: 1.367 Å\n",
      "Ground state energy: -1.136958 Ha\n"
     ]
    }
   ],
   "source": [
    "min_index = np.argmin(energies)\n",
    "print(f\"Optimal bond length: {bond_lengths[min_index]:.3f} Å\")\n",
    "print(f\"Ground state energy: {energies[min_index]:.6f} Ha\")"
   ]
  },
  {
   "cell_type": "code",
   "execution_count": 93,
   "id": "2d69b3ba",
   "metadata": {},
   "outputs": [
    {
     "data": {
      "image/png": "[encoded data removed]",
      "text/plain": [
       "<Figure size 640x480 with 1 Axes>"
      ]
     },
     "metadata": {},
     "output_type": "display_data"
    }
   ],
   "source": [
    "plt.plot(bond_lengths, energies, marker='o')\n",
    "plt.xlabel(\"H–H Bond Length (Å)\")\n",
    "plt.ylabel(\"Ground State Energy (Ha)\")\n",
    "plt.title(\"Potential Energy Curve for H₂\")\n",
    "plt.grid(True)\n",
    "\n",
    "# Ensure the \"images\" directory exists\n",
    "os.makedirs('images', exist_ok=True)\n",
    "\n",
    "# Save the figure\n",
    "plt.savefig(\"images/H2_Optimal_Bond_Length.png\")\n",
    "plt.show()"
   ]
  }
 ],
 "metadata": {
  "kernelspec": {
   "display_name": "Python 3",
   "language": "python",
   "name": "python3"
  },
  "language_info": {
   "codemirror_mode": {
    "name": "ipython",
    "version": 3
   },
   "file_extension": ".py",
   "mimetype": "text/x-python",
   "name": "python",
   "nbconvert_exporter": "python",
   "pygments_lexer": "ipython3",
   "version": "3.12.1"
  }
 },
 "nbformat": 4,
 "nbformat_minor": 5
}
