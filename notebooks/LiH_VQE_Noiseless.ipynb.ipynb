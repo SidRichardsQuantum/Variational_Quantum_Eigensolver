{
 "cells": [
  {
   "cell_type": "code",
   "execution_count": 76,
   "id": "4274be88",
   "metadata": {},
   "outputs": [],
   "source": [
    "import pennylane as qml\n",
    "from pennylane import numpy as np\n",
    "from pennylane import qchem\n",
    "from pennylane.qchem import excitations"
   ]
  },
  {
   "cell_type": "code",
   "execution_count": 77,
   "id": "28d2c82e",
   "metadata": {},
   "outputs": [],
   "source": [
    "# Define the atoms in the molecule\n",
    "symbols = [\"Li\", \"H\"]\n",
    "\n",
    "# Define the coordinates (in Ångströms)\n",
    "coordinates = np.array([\n",
    "    [0.0, 0.0, 0.0],     # Lithium atom at the origin\n",
    "    [0.0, 0.0, 1.6]      # Hydrogen atom positioned 1.6 Å along the z-axis\n",
    "])"
   ]
  },
  {
   "cell_type": "code",
   "execution_count": 78,
   "id": "a64ad8da",
   "metadata": {},
   "outputs": [
    {
     "name": "stdout",
     "output_type": "stream",
     "text": [
      "12\n"
     ]
    }
   ],
   "source": [
    "hamiltonian, qubits = qchem.molecular_hamiltonian(symbols, coordinates, charge=0)\n",
    "print(qubits)"
   ]
  },
  {
   "cell_type": "code",
   "execution_count": 79,
   "id": "c9ad458b",
   "metadata": {},
   "outputs": [
    {
     "name": "stdout",
     "output_type": "stream",
     "text": [
      "[1 1 1 1 0 0 0 0 0 0 0 0]\n"
     ]
    }
   ],
   "source": [
    "electrons=4\n",
    "hf = qchem.hf_state(electrons=electrons, orbitals=qubits)\n",
    "print(hf)\n",
    "# Outputs 1 for an occupied state, and 0 for unoccupied"
   ]
  },
  {
   "cell_type": "code",
   "execution_count": 80,
   "id": "02d1aa4a",
   "metadata": {},
   "outputs": [
    {
     "data": {
      "text/plain": [
       "tensor(-7.66194677, requires_grad=True)"
      ]
     },
     "execution_count": 80,
     "metadata": {},
     "output_type": "execute_result"
    }
   ],
   "source": [
    "num_wires = qubits\n",
    "dev = qml.device(\"default.qubit\", wires=num_wires)\n",
    "@qml.qnode(dev)\n",
    "def exp_energy(state):\n",
    "    qml.BasisState(np.array(state), wires=range(num_wires))\n",
    "    return qml.expval(hamiltonian)\n",
    "\n",
    "exp_energy(hf)"
   ]
  },
  {
   "cell_type": "code",
   "execution_count": 81,
   "id": "5f1a3cf4",
   "metadata": {},
   "outputs": [],
   "source": [
    "# singles, doubles = excitations(4, qubits)\n",
    "# print(f\"Singles Excitations: {singles}\")\n",
    "# print(f\"Doubles Excitations: {doubles}\")\n",
    "\n",
    "# def ansatz(params):\n",
    "#     qml.BasisState(hf, wires=range(num_wires))\n",
    "#     for i, excitation in enumerate(doubles):\n",
    "#         qml.DoubleExcitation(params[i], wires=excitation)\n",
    "\n",
    "def ansatz(params):\n",
    "    qml.BasisState(hf, wires=range(num_wires))\n",
    "    qml.DoubleExcitation(params[0], wires=[0, 1, 2, 3])\n",
    "    qml.DoubleExcitation(params[1], wires=[0, 1, 4, 5])\n",
    "    qml.DoubleExcitation(params[2], wires=[2, 3, 4, 5])\n"
   ]
  },
  {
   "cell_type": "code",
   "execution_count": 82,
   "id": "c4e639f6",
   "metadata": {},
   "outputs": [
    {
     "data": {
      "text/plain": [
       "tensor(-7.66194677, requires_grad=True)"
      ]
     },
     "execution_count": 82,
     "metadata": {},
     "output_type": "execute_result"
    }
   ],
   "source": [
    "@qml.qnode(dev)\n",
    "def cost_function(params):\n",
    "    ansatz(params)\n",
    "    return qml.expval(hamiltonian)\n",
    "\n",
    "initial_params = np.zeros(len(doubles))\n",
    "cost_function(initial_params)"
   ]
  },
  {
   "cell_type": "code",
   "execution_count": 83,
   "id": "f473aba3",
   "metadata": {},
   "outputs": [
    {
     "name": "stdout",
     "output_type": "stream",
     "text": [
      "Step = 0, Energy = -7.66202722 Ha\n",
      "Step = 5, Energy = -7.66212606 Ha\n",
      "Step = 10, Energy = -7.66213582 Ha\n",
      "Step = 15, Energy = -7.66213701 Ha\n"
     ]
    }
   ],
   "source": [
    "# Initialize optimizer\n",
    "opt = qml.GradientDescentOptimizer(stepsize=0.6)\n",
    "\n",
    "# Initial parameters for 3 DoubleExcitation gates\n",
    "theta = np.array([0.0, 0.0, 0.0], requires_grad=True)\n",
    "\n",
    "# Initialize energy and parameter tracking lists\n",
    "energy = [cost_function(theta)]\n",
    "angle = [theta]\n",
    "max_iterations = 20\n",
    "\n",
    "# VQE optimization loop\n",
    "for n in range(max_iterations):\n",
    "    theta, prev_energy = opt.step_and_cost(cost_function, theta)\n",
    "    energy.append(cost_function(theta))\n",
    "    angle.append(theta)\n",
    "\n",
    "    if n % 5 == 0:\n",
    "        print(f\"Step = {n}, Energy = {energy[-1]:.8f} Ha\")\n"
   ]
  },
  {
   "cell_type": "code",
   "execution_count": 84,
   "id": "8a93085d",
   "metadata": {},
   "outputs": [
    {
     "name": "stdout",
     "output_type": "stream",
     "text": [
      "Final ground state energy: -7.66213715 Ha\n",
      "Final parameters: 0.00000000, 0.00630248\n"
     ]
    }
   ],
   "source": [
    "print(f\"Final ground state energy: {energy[-1]:.8f} Ha\")\n",
    "print(f\"Final parameters: {theta[0]:.8f}, {theta[1]:.8f}\")"
   ]
  },
  {
   "cell_type": "code",
   "execution_count": 85,
   "id": "f806b1aa",
   "metadata": {},
   "outputs": [
    {
     "name": "stdout",
     "output_type": "stream",
     "text": [
      "Basis state |111100000000> has amplitude (0.9998922449195417+0j), hence is the ground state.\n"
     ]
    }
   ],
   "source": [
    "@qml.qnode(dev)\n",
    "def ground_state(params):\n",
    "    ansatz(params)\n",
    "    return qml.state()\n",
    "\n",
    "final_state = ground_state(theta)\n",
    "\n",
    "# Find non-zero (or near non-zero, above a small threshold) entries\n",
    "threshold = 0.1  # Tolerance for floating point errors\n",
    "non_zero_indices = np.where(np.abs(final_state) > threshold)[0]\n",
    "non_zero_amplitudes = final_state[non_zero_indices]\n",
    "\n",
    "for idx, amp in zip(non_zero_indices, non_zero_amplitudes):\n",
    "    print(f\"Basis state |{idx:0{num_wires}b}> has amplitude {amp}, hence is the ground state.\")"
   ]
  }
 ],
 "metadata": {
  "kernelspec": {
   "display_name": "Python 3 (ipykernel)",
   "language": "python",
   "name": "python3"
  },
  "language_info": {
   "codemirror_mode": {
    "name": "ipython",
    "version": 3
   },
   "file_extension": ".py",
   "mimetype": "text/x-python",
   "name": "python",
   "nbconvert_exporter": "python",
   "pygments_lexer": "ipython3",
   "version": "3.12.1"
  }
 },
 "nbformat": 4,
 "nbformat_minor": 5
}
