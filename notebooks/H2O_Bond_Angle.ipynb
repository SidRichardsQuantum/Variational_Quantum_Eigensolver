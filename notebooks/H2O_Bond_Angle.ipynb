{
 "cells": [
  {
   "cell_type": "markdown",
   "id": "d77f760c",
   "metadata": {},
   "source": [
    "# 💧 VQE-Based Bond Angle Optimization of Water (H₂O)\n",
    "\n",
    "This notebook implements the **Variational Quantum Eigensolver (VQE)** to determine the **optimal bond angle of the water molecule (H₂O)** by minimizing its ground state energy across a range of geometries. The simulation is executed on a **noiseless quantum device** using PennyLane’s quantum chemistry module.\n",
    "\n",
    "### Key Features:\n",
    "- **Geometry Generator**: Constructs H₂O molecular geometries parametrized by bond angle (in degrees) with fixed bond length.\n",
    "- **VQE Energy Evaluation**:\n",
    "  - Applies a **UCCSD-style ansatz** with both single and double excitations.\n",
    "  - Optimizes the ansatz parameters for each bond angle using the **Adam optimizer**.\n",
    "- **Angle Sweep**: Evaluates the ground state energy at discrete H–O–H angles (from 100° to 109°).\n",
    "- **Result Visualization**:\n",
    "  - Plots energy vs. bond angle to identify the minimum.\n",
    "  - Outputs the **optimal angle** and its corresponding **minimum energy**.\n",
    "\n",
    "### Purpose:\n",
    "To estimate the **equilibrium bond angle** of water using a quantum variational approach, enabling quantum simulation-driven geometry optimization — a key step in **ab initio quantum chemistry** using near-term quantum devices."
   ]
  },
  {
   "cell_type": "code",
   "execution_count": 1,
   "id": "a1dd673d",
   "metadata": {},
   "outputs": [],
   "source": [
    "import pennylane as qml                  # Quantum circuit builder and device management\n",
    "from pennylane import numpy as np        # Not regular NumPy, but similar and supports automatic differentiation\n",
    "from pennylane import qchem              # Quantum chemistry module used to define molecule Hamiltonians\n",
    "from pennylane.qchem import excitations  # Single and double excitations used in the UCCSD (Unitary Coupled Cluster Singles and Doubles) ansatz\n",
    "import matplotlib.pyplot as plt\n",
    "import os\n",
    "from vqe_utils import excitation_ansatz, get_optimizer"
   ]
  },
  {
   "cell_type": "code",
   "execution_count": 2,
   "id": "cee03e6d",
   "metadata": {},
   "outputs": [],
   "source": [
    "def water_geometry(angle_deg, bond_length=0.9584):\n",
    "    # Generate coordinates for water with given angle in degrees\n",
    "    angle_rad = np.deg2rad(angle_deg)  # Convert to radians\n",
    "    x = bond_length * np.sin(angle_rad / 2)\n",
    "    z = bond_length * np.cos(angle_rad / 2)\n",
    "    \n",
    "    coordinates = np.array([\n",
    "        [0.0, 0.0, 0.0],  # Oxygen\n",
    "        [x, 0.0, z],      # Hydrogen 1\n",
    "        [-x, 0.0, z]      # Hydrogen 2\n",
    "    ])\n",
    "    return coordinates"
   ]
  },
  {
   "cell_type": "code",
   "execution_count": 3,
   "id": "c2de3e02",
   "metadata": {},
   "outputs": [],
   "source": [
    "def run_vqe(angle_deg, max_iterations=10, stepsize=0.2):\n",
    "    coordinates = water_geometry(angle_deg)\n",
    "    symbols = [\"O\", \"H\", \"H\"]\n",
    "    hamiltonian, qubits = qchem.molecular_hamiltonian(symbols, coordinates)\n",
    "    \n",
    "    electrons = 10\n",
    "    hf = qchem.hf_state(electrons, qubits)\n",
    "    singles, doubles = excitations(electrons, qubits)\n",
    "\n",
    "    dev = qml.device(\"default.qubit\", wires=qubits)\n",
    "\n",
    "    @qml.qnode(dev)\n",
    "    def cost_fn(params):\n",
    "        excitation_ansatz(\n",
    "            params,\n",
    "            wires=range(qubits),\n",
    "            hf_state=hf,\n",
    "            excitations=(singles, doubles),\n",
    "            excitation_type=\"both\"\n",
    "        )\n",
    "        return qml.expval(hamiltonian)\n",
    "\n",
    "    # Initialize combined parameter vector\n",
    "    params = np.zeros(len(singles) + len(doubles), requires_grad=True)\n",
    "\n",
    "    opt = get_optimizer(\"Adam\", stepsize=stepsize)\n",
    "\n",
    "    for _ in range(max_iterations):\n",
    "        params, _ = opt.step_and_cost(cost_fn, params)\n",
    "\n",
    "    final_energy = cost_fn(params)\n",
    "    return final_energy"
   ]
  },
  {
   "cell_type": "code",
   "execution_count": 4,
   "id": "80eadc7f",
   "metadata": {},
   "outputs": [
    {
     "name": "stdout",
     "output_type": "stream",
     "text": [
      "Running VQE for angle 100.0°\n"
     ]
    },
    {
     "ename": "KeyboardInterrupt",
     "evalue": "",
     "output_type": "error",
     "traceback": [
      "\u001b[31m---------------------------------------------------------------------------\u001b[39m",
      "\u001b[31mKeyboardInterrupt\u001b[39m                         Traceback (most recent call last)",
      "\u001b[36mCell\u001b[39m\u001b[36m \u001b[39m\u001b[32mIn[4]\u001b[39m\u001b[32m, line 10\u001b[39m\n\u001b[32m      7\u001b[39m     \u001b[38;5;28mprint\u001b[39m(\u001b[33mf\u001b[39m\u001b[33m\"\u001b[39m\u001b[33mRunning VQE for angle \u001b[39m\u001b[38;5;132;01m{\u001b[39;00mangle\u001b[38;5;132;01m:\u001b[39;00m\u001b[33m.1f\u001b[39m\u001b[38;5;132;01m}\u001b[39;00m\u001b[33m°\u001b[39m\u001b[33m\"\u001b[39m)\n\u001b[32m      9\u001b[39m     \u001b[38;5;66;03m# Find the optimized ground state energy for that geometry\u001b[39;00m\n\u001b[32m---> \u001b[39m\u001b[32m10\u001b[39m     energy = \u001b[43mrun_vqe\u001b[49m\u001b[43m(\u001b[49m\u001b[43mangle\u001b[49m\u001b[43m)\u001b[49m\n\u001b[32m     11\u001b[39m     energies.append(energy)\n\u001b[32m     13\u001b[39m \u001b[38;5;66;03m# Optimized energy plots\u001b[39;00m\n",
      "\u001b[36mCell\u001b[39m\u001b[36m \u001b[39m\u001b[32mIn[3]\u001b[39m\u001b[32m, line 29\u001b[39m, in \u001b[36mrun_vqe\u001b[39m\u001b[34m(angle_deg, max_iterations, stepsize)\u001b[39m\n\u001b[32m     26\u001b[39m opt = get_optimizer(\u001b[33m\"\u001b[39m\u001b[33mAdam\u001b[39m\u001b[33m\"\u001b[39m, stepsize=stepsize)\n\u001b[32m     28\u001b[39m \u001b[38;5;28;01mfor\u001b[39;00m _ \u001b[38;5;129;01min\u001b[39;00m \u001b[38;5;28mrange\u001b[39m(max_iterations):\n\u001b[32m---> \u001b[39m\u001b[32m29\u001b[39m     params, _ = \u001b[43mopt\u001b[49m\u001b[43m.\u001b[49m\u001b[43mstep_and_cost\u001b[49m\u001b[43m(\u001b[49m\u001b[43mcost_fn\u001b[49m\u001b[43m,\u001b[49m\u001b[43m \u001b[49m\u001b[43mparams\u001b[49m\u001b[43m)\u001b[49m\n\u001b[32m     31\u001b[39m final_energy = cost_fn(params)\n\u001b[32m     32\u001b[39m \u001b[38;5;28;01mreturn\u001b[39;00m final_energy\n",
      "\u001b[36mFile \u001b[39m\u001b[32m/usr/local/python/3.12.1/lib/python3.12/site-packages/pennylane/optimize/gradient_descent.py:64\u001b[39m, in \u001b[36mGradientDescentOptimizer.step_and_cost\u001b[39m\u001b[34m(self, objective_fn, grad_fn, *args, **kwargs)\u001b[39m\n\u001b[32m     44\u001b[39m \u001b[38;5;28;01mdef\u001b[39;00m\u001b[38;5;250m \u001b[39m\u001b[34mstep_and_cost\u001b[39m(\u001b[38;5;28mself\u001b[39m, objective_fn, *args, grad_fn=\u001b[38;5;28;01mNone\u001b[39;00m, **kwargs):\n\u001b[32m     45\u001b[39m \u001b[38;5;250m    \u001b[39m\u001b[33;03m\"\"\"Update trainable arguments with one step of the optimizer and return the corresponding\u001b[39;00m\n\u001b[32m     46\u001b[39m \u001b[33;03m    objective function value prior to the step.\u001b[39;00m\n\u001b[32m     47\u001b[39m \n\u001b[32m   (...)\u001b[39m\u001b[32m     61\u001b[39m \u001b[33;03m        If single arg is provided, list [array] is replaced by array.\u001b[39;00m\n\u001b[32m     62\u001b[39m \u001b[33;03m    \"\"\"\u001b[39;00m\n\u001b[32m---> \u001b[39m\u001b[32m64\u001b[39m     g, forward = \u001b[38;5;28;43mself\u001b[39;49m\u001b[43m.\u001b[49m\u001b[43mcompute_grad\u001b[49m\u001b[43m(\u001b[49m\u001b[43mobjective_fn\u001b[49m\u001b[43m,\u001b[49m\u001b[43m \u001b[49m\u001b[43margs\u001b[49m\u001b[43m,\u001b[49m\u001b[43m \u001b[49m\u001b[43mkwargs\u001b[49m\u001b[43m,\u001b[49m\u001b[43m \u001b[49m\u001b[43mgrad_fn\u001b[49m\u001b[43m=\u001b[49m\u001b[43mgrad_fn\u001b[49m\u001b[43m)\u001b[49m\n\u001b[32m     65\u001b[39m     new_args = \u001b[38;5;28mself\u001b[39m.apply_grad(g, args)\n\u001b[32m     67\u001b[39m     \u001b[38;5;28;01mif\u001b[39;00m forward \u001b[38;5;129;01mis\u001b[39;00m \u001b[38;5;28;01mNone\u001b[39;00m:\n",
      "\u001b[36mFile \u001b[39m\u001b[32m/usr/local/python/3.12.1/lib/python3.12/site-packages/pennylane/optimize/gradient_descent.py:122\u001b[39m, in \u001b[36mGradientDescentOptimizer.compute_grad\u001b[39m\u001b[34m(objective_fn, args, kwargs, grad_fn)\u001b[39m\n\u001b[32m    104\u001b[39m \u001b[38;5;250m\u001b[39m\u001b[33mr\u001b[39m\u001b[33;03m\"\"\"Compute the gradient of the objective function at the given point and return it along with\u001b[39;00m\n\u001b[32m    105\u001b[39m \u001b[33;03mthe objective function forward pass (if available).\u001b[39;00m\n\u001b[32m    106\u001b[39m \n\u001b[32m   (...)\u001b[39m\u001b[32m    119\u001b[39m \u001b[33;03m    will not be evaluated and instead ``None`` will be returned.\u001b[39;00m\n\u001b[32m    120\u001b[39m \u001b[33;03m\"\"\"\u001b[39;00m\n\u001b[32m    121\u001b[39m g = get_gradient(objective_fn) \u001b[38;5;28;01mif\u001b[39;00m grad_fn \u001b[38;5;129;01mis\u001b[39;00m \u001b[38;5;28;01mNone\u001b[39;00m \u001b[38;5;28;01melse\u001b[39;00m grad_fn\n\u001b[32m--> \u001b[39m\u001b[32m122\u001b[39m grad = \u001b[43mg\u001b[49m\u001b[43m(\u001b[49m\u001b[43m*\u001b[49m\u001b[43margs\u001b[49m\u001b[43m,\u001b[49m\u001b[43m \u001b[49m\u001b[43m*\u001b[49m\u001b[43m*\u001b[49m\u001b[43mkwargs\u001b[49m\u001b[43m)\u001b[49m\n\u001b[32m    123\u001b[39m forward = \u001b[38;5;28mgetattr\u001b[39m(g, \u001b[33m\"\u001b[39m\u001b[33mforward\u001b[39m\u001b[33m\"\u001b[39m, \u001b[38;5;28;01mNone\u001b[39;00m)\n\u001b[32m    125\u001b[39m num_trainable_args = \u001b[38;5;28msum\u001b[39m(\u001b[38;5;28mgetattr\u001b[39m(arg, \u001b[33m\"\u001b[39m\u001b[33mrequires_grad\u001b[39m\u001b[33m\"\u001b[39m, \u001b[38;5;28;01mFalse\u001b[39;00m) \u001b[38;5;28;01mfor\u001b[39;00m arg \u001b[38;5;129;01min\u001b[39;00m args)\n",
      "\u001b[36mFile \u001b[39m\u001b[32m/usr/local/python/3.12.1/lib/python3.12/site-packages/pennylane/_grad.py:318\u001b[39m, in \u001b[36mgrad.__call__\u001b[39m\u001b[34m(self, *args, **kwargs)\u001b[39m\n\u001b[32m    315\u001b[39m     \u001b[38;5;28mself\u001b[39m._forward = \u001b[38;5;28mself\u001b[39m._fun(*args, **kwargs)\n\u001b[32m    316\u001b[39m     \u001b[38;5;28;01mreturn\u001b[39;00m ()\n\u001b[32m--> \u001b[39m\u001b[32m318\u001b[39m grad_value, ans = \u001b[43mgrad_fn\u001b[49m\u001b[43m(\u001b[49m\u001b[43m*\u001b[49m\u001b[43margs\u001b[49m\u001b[43m,\u001b[49m\u001b[43m \u001b[49m\u001b[43m*\u001b[49m\u001b[43m*\u001b[49m\u001b[43mkwargs\u001b[49m\u001b[43m)\u001b[49m  \u001b[38;5;66;03m# pylint: disable=not-callable\u001b[39;00m\n\u001b[32m    319\u001b[39m \u001b[38;5;28mself\u001b[39m._forward = ans\n\u001b[32m    321\u001b[39m \u001b[38;5;28;01mreturn\u001b[39;00m grad_value\n",
      "\u001b[36mFile \u001b[39m\u001b[32m/usr/local/python/3.12.1/lib/python3.12/site-packages/autograd/wrap_util.py:23\u001b[39m, in \u001b[36munary_to_nary.<locals>.nary_operator.<locals>.nary_f\u001b[39m\u001b[34m(*args, **kwargs)\u001b[39m\n\u001b[32m     21\u001b[39m \u001b[38;5;28;01melse\u001b[39;00m:\n\u001b[32m     22\u001b[39m     x = \u001b[38;5;28mtuple\u001b[39m(args[i] \u001b[38;5;28;01mfor\u001b[39;00m i \u001b[38;5;129;01min\u001b[39;00m argnum)\n\u001b[32m---> \u001b[39m\u001b[32m23\u001b[39m \u001b[38;5;28;01mreturn\u001b[39;00m \u001b[43munary_operator\u001b[49m\u001b[43m(\u001b[49m\u001b[43munary_f\u001b[49m\u001b[43m,\u001b[49m\u001b[43m \u001b[49m\u001b[43mx\u001b[49m\u001b[43m,\u001b[49m\u001b[43m \u001b[49m\u001b[43m*\u001b[49m\u001b[43mnary_op_args\u001b[49m\u001b[43m,\u001b[49m\u001b[43m \u001b[49m\u001b[43m*\u001b[49m\u001b[43m*\u001b[49m\u001b[43mnary_op_kwargs\u001b[49m\u001b[43m)\u001b[49m\n",
      "\u001b[36mFile \u001b[39m\u001b[32m/usr/local/python/3.12.1/lib/python3.12/site-packages/pennylane/_grad.py:344\u001b[39m, in \u001b[36mgrad._grad_with_forward\u001b[39m\u001b[34m(fun, x)\u001b[39m\n\u001b[32m    338\u001b[39m \u001b[38;5;28;01mif\u001b[39;00m vspace(ans).size != \u001b[32m1\u001b[39m:\n\u001b[32m    339\u001b[39m     \u001b[38;5;28;01mraise\u001b[39;00m \u001b[38;5;167;01mTypeError\u001b[39;00m(\n\u001b[32m    340\u001b[39m         \u001b[33m\"\u001b[39m\u001b[33mGrad only applies to real scalar-output functions. \u001b[39m\u001b[33m\"\u001b[39m\n\u001b[32m    341\u001b[39m         \u001b[33m\"\u001b[39m\u001b[33mTry jacobian, elementwise_grad or holomorphic_grad.\u001b[39m\u001b[33m\"\u001b[39m\n\u001b[32m    342\u001b[39m     )\n\u001b[32m--> \u001b[39m\u001b[32m344\u001b[39m grad_value = \u001b[43mvjp\u001b[49m\u001b[43m(\u001b[49m\u001b[43mvspace\u001b[49m\u001b[43m(\u001b[49m\u001b[43mans\u001b[49m\u001b[43m)\u001b[49m\u001b[43m.\u001b[49m\u001b[43mones\u001b[49m\u001b[43m(\u001b[49m\u001b[43m)\u001b[49m\u001b[43m)\u001b[49m\n\u001b[32m    345\u001b[39m \u001b[38;5;28;01mreturn\u001b[39;00m grad_value, ans\n",
      "\u001b[36mFile \u001b[39m\u001b[32m/usr/local/python/3.12.1/lib/python3.12/site-packages/autograd/core.py:20\u001b[39m, in \u001b[36mmake_vjp.<locals>.vjp\u001b[39m\u001b[34m(g)\u001b[39m\n\u001b[32m     19\u001b[39m \u001b[38;5;28;01mdef\u001b[39;00m\u001b[38;5;250m \u001b[39m\u001b[34mvjp\u001b[39m(g):\n\u001b[32m---> \u001b[39m\u001b[32m20\u001b[39m     \u001b[38;5;28;01mreturn\u001b[39;00m \u001b[43mbackward_pass\u001b[49m\u001b[43m(\u001b[49m\u001b[43mg\u001b[49m\u001b[43m,\u001b[49m\u001b[43m \u001b[49m\u001b[43mend_node\u001b[49m\u001b[43m)\u001b[49m\n",
      "\u001b[36mFile \u001b[39m\u001b[32m/usr/local/python/3.12.1/lib/python3.12/site-packages/autograd/core.py:31\u001b[39m, in \u001b[36mbackward_pass\u001b[39m\u001b[34m(g, end_node)\u001b[39m\n\u001b[32m     29\u001b[39m     ingrads = node.vjp(outgrad[\u001b[32m0\u001b[39m])\n\u001b[32m     30\u001b[39m     \u001b[38;5;28;01mfor\u001b[39;00m parent, ingrad \u001b[38;5;129;01min\u001b[39;00m \u001b[38;5;28mzip\u001b[39m(node.parents, ingrads):\n\u001b[32m---> \u001b[39m\u001b[32m31\u001b[39m         outgrads[parent] = \u001b[43madd_outgrads\u001b[49m\u001b[43m(\u001b[49m\u001b[43moutgrads\u001b[49m\u001b[43m.\u001b[49m\u001b[43mget\u001b[49m\u001b[43m(\u001b[49m\u001b[43mparent\u001b[49m\u001b[43m)\u001b[49m\u001b[43m,\u001b[49m\u001b[43m \u001b[49m\u001b[43mingrad\u001b[49m\u001b[43m)\u001b[49m\n\u001b[32m     32\u001b[39m \u001b[38;5;28;01mreturn\u001b[39;00m outgrad[\u001b[32m0\u001b[39m]\n",
      "\u001b[36mFile \u001b[39m\u001b[32m/usr/local/python/3.12.1/lib/python3.12/site-packages/autograd/core.py:191\u001b[39m, in \u001b[36madd_outgrads\u001b[39m\u001b[34m(prev_g_flagged, g)\u001b[39m\n\u001b[32m    189\u001b[39m \u001b[38;5;28;01mif\u001b[39;00m mutable:\n\u001b[32m    190\u001b[39m     \u001b[38;5;28;01mif\u001b[39;00m sparse:\n\u001b[32m--> \u001b[39m\u001b[32m191\u001b[39m         \u001b[38;5;28;01mreturn\u001b[39;00m \u001b[43msparse_add\u001b[49m\u001b[43m(\u001b[49m\u001b[43mvs\u001b[49m\u001b[43m,\u001b[49m\u001b[43m \u001b[49m\u001b[43mprev_g\u001b[49m\u001b[43m,\u001b[49m\u001b[43m \u001b[49m\u001b[43mg\u001b[49m\u001b[43m)\u001b[49m, \u001b[38;5;28;01mTrue\u001b[39;00m\n\u001b[32m    192\u001b[39m     \u001b[38;5;28;01melse\u001b[39;00m:\n\u001b[32m    193\u001b[39m         \u001b[38;5;28;01mreturn\u001b[39;00m vs.mut_add(prev_g, g), \u001b[38;5;28;01mTrue\u001b[39;00m\n",
      "\u001b[36mFile \u001b[39m\u001b[32m/usr/local/python/3.12.1/lib/python3.12/site-packages/autograd/tracer.py:54\u001b[39m, in \u001b[36mprimitive.<locals>.f_wrapped\u001b[39m\u001b[34m(*args, **kwargs)\u001b[39m\n\u001b[32m     52\u001b[39m     \u001b[38;5;28;01mreturn\u001b[39;00m new_box(ans, trace, node)\n\u001b[32m     53\u001b[39m \u001b[38;5;28;01melse\u001b[39;00m:\n\u001b[32m---> \u001b[39m\u001b[32m54\u001b[39m     \u001b[38;5;28;01mreturn\u001b[39;00m \u001b[43mf_raw\u001b[49m\u001b[43m(\u001b[49m\u001b[43m*\u001b[49m\u001b[43margs\u001b[49m\u001b[43m,\u001b[49m\u001b[43m \u001b[49m\u001b[43m*\u001b[49m\u001b[43m*\u001b[49m\u001b[43mkwargs\u001b[49m\u001b[43m)\u001b[49m\n",
      "\u001b[36mFile \u001b[39m\u001b[32m/usr/local/python/3.12.1/lib/python3.12/site-packages/autograd/core.py:214\u001b[39m, in \u001b[36msparse_add\u001b[39m\u001b[34m(vs, x_prev, x_new)\u001b[39m\n\u001b[32m    211\u001b[39m \u001b[38;5;129m@primitive\u001b[39m\n\u001b[32m    212\u001b[39m \u001b[38;5;28;01mdef\u001b[39;00m\u001b[38;5;250m \u001b[39m\u001b[34msparse_add\u001b[39m(vs, x_prev, x_new):\n\u001b[32m    213\u001b[39m     x_prev = x_prev \u001b[38;5;28;01mif\u001b[39;00m x_prev \u001b[38;5;129;01mis\u001b[39;00m \u001b[38;5;129;01mnot\u001b[39;00m \u001b[38;5;28;01mNone\u001b[39;00m \u001b[38;5;28;01melse\u001b[39;00m vs.zeros()\n\u001b[32m--> \u001b[39m\u001b[32m214\u001b[39m     \u001b[38;5;28;01mreturn\u001b[39;00m \u001b[43mx_new\u001b[49m\u001b[43m.\u001b[49m\u001b[43mmut_add\u001b[49m\u001b[43m(\u001b[49m\u001b[43mx_prev\u001b[49m\u001b[43m)\u001b[49m\n",
      "\u001b[36mFile \u001b[39m\u001b[32m/usr/local/python/3.12.1/lib/python3.12/site-packages/autograd/numpy/numpy_vjps.py:943\u001b[39m, in \u001b[36muntake.<locals>.mut_add\u001b[39m\u001b[34m(A)\u001b[39m\n\u001b[32m    942\u001b[39m \u001b[38;5;28;01mdef\u001b[39;00m\u001b[38;5;250m \u001b[39m\u001b[34mmut_add\u001b[39m(A):\n\u001b[32m--> \u001b[39m\u001b[32m943\u001b[39m     \u001b[43monp\u001b[49m\u001b[43m.\u001b[49m\u001b[43madd\u001b[49m\u001b[43m.\u001b[49m\u001b[43mat\u001b[49m\u001b[43m(\u001b[49m\u001b[43mA\u001b[49m\u001b[43m,\u001b[49m\u001b[43m \u001b[49m\u001b[43midx\u001b[49m\u001b[43m,\u001b[49m\u001b[43m \u001b[49m\u001b[43mx\u001b[49m\u001b[43m)\u001b[49m\n\u001b[32m    944\u001b[39m     \u001b[38;5;28;01mreturn\u001b[39;00m A\n",
      "\u001b[31mKeyboardInterrupt\u001b[39m: "
     ]
    }
   ],
   "source": [
    "# Defin the angle range and initialize the energy\n",
    "angles = np.linspace(100, 109, 5)  # Bond angles (in degrees) to test\n",
    "energies = []\n",
    "\n",
    "for angle in angles:\n",
    "    # Iterates over each bond angle\n",
    "    print(f\"Running VQE for angle {angle:.1f}°\")\n",
    "\n",
    "    # Find the optimized ground state energy for that geometry\n",
    "    energy = run_vqe(angle)\n",
    "    energies.append(energy)\n",
    "\n",
    "# Optimized energy plots\n",
    "plt.plot(angles, energies, marker='o')\n",
    "plt.xlabel('H–O–H Angle (degrees)')\n",
    "plt.ylabel('Ground State Energy (Ha)')\n",
    "plt.title('Water Ground State Energy vs. Bond Angle')\n",
    "plt.grid(True)\n",
    "plt.tight_layout()\n",
    "\n",
    "# Ensure the \"images\" directory exists\n",
    "os.makedirs('images', exist_ok=True)\n",
    "\n",
    "# Save the figure to the \"images\" directory\n",
    "plt.savefig('images/H2O_Optimal_Bond_Angle.png')\n",
    "plt.show()\n",
    "\n",
    "# Print the optimum bond-angle and the corresponding energy\n",
    "min_energy = min(energies)\n",
    "opt_angle = angles[np.argmin(energies)]\n",
    "print(f\"Minimum energy: {min_energy:.6f} Ha\")\n",
    "print(f\"Optimal angle: {opt_angle:.2f}°\")"
   ]
  }
 ],
 "metadata": {
  "kernelspec": {
   "display_name": "Python 3",
   "language": "python",
   "name": "python3"
  },
  "language_info": {
   "codemirror_mode": {
    "name": "ipython",
    "version": 3
   },
   "file_extension": ".py",
   "mimetype": "text/x-python",
   "name": "python",
   "nbconvert_exporter": "python",
   "pygments_lexer": "ipython3",
   "version": "3.12.1"
  }
 },
 "nbformat": 4,
 "nbformat_minor": 5
}
