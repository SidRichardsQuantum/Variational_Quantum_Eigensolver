{
 "cells": [
  {
   "cell_type": "markdown",
   "id": "d77f760c",
   "metadata": {},
   "source": [
    "# 💧 VQE-Based Bond Angle Optimization of Water (H₂O)\n",
    "\n",
    "This notebook implements the **Variational Quantum Eigensolver (VQE)** to determine the **optimal bond angle of the water molecule (H₂O)** by minimizing its ground state energy across a range of geometries. The simulation is executed on a **noiseless quantum device** using PennyLane’s quantum chemistry module.\n",
    "\n",
    "### Key Features:\n",
    "- **Geometry Generator**: Constructs H₂O molecular geometries parametrized by bond angle (in degrees) with fixed bond length.\n",
    "- **VQE Energy Evaluation**:\n",
    "  - Applies a **UCCSD-style ansatz** with both single and double excitations.\n",
    "  - Optimizes the ansatz parameters for each bond angle using the **Adam optimizer**.\n",
    "- **Angle Sweep**: Evaluates the ground state energy at discrete H–O–H angles (from 100° to 109°).\n",
    "- **Result Visualization**:\n",
    "  - Plots energy vs. bond angle to identify the minimum.\n",
    "  - Outputs the **optimal angle** and its corresponding **minimum energy**.\n",
    "\n",
    "### Purpose:\n",
    "To estimate the **equilibrium bond angle** of water using a quantum variational approach, enabling quantum simulation-driven geometry optimization — a key step in **ab initio quantum chemistry** using near-term quantum devices."
   ]
  },
  {
   "cell_type": "code",
   "execution_count": null,
   "id": "a1dd673d",
   "metadata": {},
   "outputs": [],
   "source": [
    "import pennylane as qml                  # Quantum circuit builder and device management\n",
    "from pennylane import numpy as np        # Not regular NumPy, but similar and supports automatic differentiation\n",
    "from pennylane import qchem              # Quantum chemistry module used to define molecule Hamiltonians\n",
    "from pennylane.qchem import excitations  # Single and double excitations used in the UCCSD (Unitary Coupled Cluster Singles and Doubles) ansatz\n",
    "import matplotlib.pyplot as plt\n",
    "import os\n",
    "from vqe_utils import excitation_ansatz, get_optimizer, set_seed\n",
    "\n",
    "set_seed(0)                              # Reproducible runs\n",
    "IMG_DIR = \"images\"                       # Single image directory used repo-wide\n",
    "os.makedirs(IMG_DIR, exist_ok=True)"
   ]
  },
  {
   "cell_type": "code",
   "execution_count": null,
   "id": "cee03e6d",
   "metadata": {},
   "outputs": [],
   "source": [
    "def water_geometry(angle_deg, bond_length=0.9584):\n",
    "    # Generate coordinates for water with given angle in degrees (bond length in Å)\n",
    "    angle_rad = np.deg2rad(angle_deg)  # Convert to radians\n",
    "    x = bond_length * np.sin(angle_rad / 2)\n",
    "    z = bond_length * np.cos(angle_rad / 2)\n",
    "    coordinates = np.array([\n",
    "        [0.0, 0.0, 0.0],  # Oxygen\n",
    "        [x, 0.0, z],      # Hydrogen 1\n",
    "        [-x, 0.0, z]      # Hydrogen 2\n",
    "    ])\n",
    "    return coordinates"
   ]
  },
  {
   "cell_type": "code",
   "execution_count": null,
   "id": "c2de3e02",
   "metadata": {},
   "outputs": [],
   "source": [
    "def run_vqe(angle_deg, max_iterations=10, stepsize=0.2):\n",
    "    coordinates = water_geometry(angle_deg)\n",
    "    symbols = [\"O\", \"H\", \"H\"]\n",
    "    hamiltonian, qubits = qchem.molecular_hamiltonian(symbols, coordinates)\n",
    "    \n",
    "    electrons = 10\n",
    "    hf = qchem.hf_state(electrons, qubits)\n",
    "    singles, doubles = excitations(electrons, qubits)\n",
    "\n",
    "    dev = qml.device(\"default.qubit\", wires=qubits)\n",
    "\n",
    "    @qml.qnode(dev)\n",
    "    def cost_fn(params):\n",
    "        excitation_ansatz(\n",
    "            params,\n",
    "            wires=range(qubits),\n",
    "            hf_state=hf,\n",
    "            excitations=(singles, doubles),\n",
    "            excitation_type=\"both\"\n",
    "        )\n",
    "        return qml.expval(hamiltonian)\n",
    "\n",
    "    # Initialize combined parameter vector\n",
    "    params = np.zeros(len(singles) + len(doubles), requires_grad=True)\n",
    "\n",
    "    opt = get_optimizer(\"Adam\", stepsize=stepsize)\n",
    "\n",
    "    for _ in range(max_iterations):\n",
    "        params, _ = opt.step_and_cost(cost_fn, params)\n",
    "\n",
    "    final_energy = cost_fn(params)\n",
    "    return final_energy"
   ]
  },
  {
   "cell_type": "code",
   "execution_count": null,
   "id": "80eadc7f",
   "metadata": {},
   "outputs": [],
   "source": [
    "# Define the angle range and initialize the energy\n",
    "angles = np.linspace(100, 109, 5)  # Bond angles (in degrees) to test\n",
    "energies = []\n",
    "\n",
    "for angle in angles:\n",
    "    # Iterates over each bond angle\n",
    "    print(f\"Running VQE for angle {angle:.1f}°\")\n",
    "\n",
    "    # Find the optimized ground state energy for that geometry\n",
    "    energy = run_vqe(angle)\n",
    "    energies.append(energy)\n",
    "\n",
    "# Optimized energy plots\n",
    "plt.plot(angles, energies, marker='o')\n",
    "plt.xlabel('H–O–H Angle (°)')\n",
    "plt.ylabel('Ground State Energy (Ha)')\n",
    "plt.title('H₂O VQE: Energy vs. Bond Angle (Noiseless, UCCSD)')\n",
    "plt.grid(True)\n",
    "plt.tight_layout()\n",
    "plt.savefig(f'{IMG_DIR}/H2O_Bond_Angle_Scan.png', dpi=300)\n",
    "plt.show()\n",
    "\n",
    "# Print the optimum bond-angle and the corresponding energy\n",
    "min_energy = min(energies)\n",
    "opt_angle = angles[np.argmin(energies)]\n",
    "print(f\"Minimum energy: {min_energy:.6f} Ha\")\n",
    "print(f\"Optimal angle: {opt_angle:.2f}°\")"
   ]
  }
 ],
 "metadata": {
  "kernelspec": {
   "display_name": "Python 3",
   "language": "python",
   "name": "python3"
  },
  "language_info": {
   "codemirror_mode": {
    "name": "ipython",
    "version": 3
   },
   "file_extension": ".py",
   "mimetype": "text/x-python",
   "name": "python",
   "nbconvert_exporter": "python",
   "pygments_lexer": "ipython3",
   "version": "3.12.1"
  }
 },
 "nbformat": 4,
 "nbformat_minor": 5
}
